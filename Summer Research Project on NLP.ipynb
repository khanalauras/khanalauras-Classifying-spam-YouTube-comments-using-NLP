{
 "cells": [
  {
   "cell_type": "code",
   "execution_count": 51,
   "metadata": {},
   "outputs": [],
   "source": [
    "import nltk\n",
    "from nltk.tokenize import word_tokenize, sent_tokenize\n",
    "from nltk.corpus import stopwords\n",
    "\n",
    "import pandas as pd\n",
    "import seaborn as sns\n",
    "import numpy as np\n",
    "import matplotlib.pyplot as plt\n",
    "import string\n",
    "\n",
    "from sklearn.feature_extraction.text import CountVectorizer\n",
    "from sklearn.feature_extraction.text import TfidfTransformer\n",
    "from sklearn.feature_extraction.text import TfidfVectorizer\n",
    "\n",
    "from sklearn import tree\n",
    "from sklearn.naive_bayes import MultinomialNB, BernoulliNB, GaussianNB\n",
    "from sklearn.svm import SVC\n",
    "from sklearn.tree import DecisionTreeClassifier\n",
    "from sklearn.ensemble import RandomForestClassifier\n",
    "from sklearn.preprocessing import StandardScaler\n",
    "from sklearn.preprocessing import MinMaxScaler\n",
    "from sklearn.model_selection import train_test_split\n",
    "from sklearn.metrics import confusion_matrix,classification_report,ConfusionMatrixDisplay"
   ]
  },
  {
   "cell_type": "code",
   "execution_count": 2,
   "metadata": {},
   "outputs": [],
   "source": [
    "#reading the individual csv files into different dataframes\n",
    "df1=pd.read_csv(r'C:\\Users\\khana\\Desktop\\Youtube01-Psy.csv',header=None)\n",
    "df2=pd.read_csv(r'C:\\Users\\khana\\Desktop\\Youtube02-KatyPerry.csv',header=None)\n",
    "df3=pd.read_csv(r'C:\\Users\\khana\\Desktop\\Youtube03-LMFAO.csv',header=None)\n",
    "df4=pd.read_csv(r'C:\\Users\\khana\\Desktop\\Youtube04-Eminem.csv',header=None)\n",
    "df5=pd.read_csv(r'C:\\Users\\khana\\Desktop\\Youtube05-Shakira.csv',header=None)"
   ]
  },
  {
   "cell_type": "markdown",
   "metadata": {},
   "source": [
    "# Data Preprocessing"
   ]
  },
  {
   "cell_type": "code",
   "execution_count": 3,
   "metadata": {},
   "outputs": [],
   "source": [
    "#function to preprocess the data by adding labels and removing trivial data\n",
    "def pre_process(df1):\n",
    "    Df=df1.drop(0, axis=0)\n",
    "    Df=Df.reset_index()\n",
    "    Df = Df.rename(columns= {'index':'TEMP',0:'CommentID', 1:'Author', 2:'Date', 3:'Content', 4:'Class'})\n",
    "    Df=Df.drop(columns='TEMP')\n",
    "    return Df"
   ]
  },
  {
   "cell_type": "code",
   "execution_count": 4,
   "metadata": {},
   "outputs": [],
   "source": [
    "#jerry is teaching me how to use github\n",
    "df1 = pre_process(df1)\n",
    "df2 = pre_process(df2)\n",
    "df3 = pre_process(df3)\n",
    "df4 = pre_process(df4)\n",
    "df5 = pre_process(df5)"
   ]
  },
  {
   "cell_type": "code",
   "execution_count": 5,
   "metadata": {},
   "outputs": [],
   "source": [
    "#creating a single dataframe from the five different dataframes by concatanating\n",
    "Df= pd.concat((df1,df2,df3,df4,df5),ignore_index=True)"
   ]
  },
  {
   "cell_type": "markdown",
   "metadata": {},
   "source": [
    "# Data Exploration and Visualization"
   ]
  },
  {
   "cell_type": "code",
   "execution_count": 6,
   "metadata": {},
   "outputs": [
    {
     "data": {
      "text/html": [
       "<div>\n",
       "<style scoped>\n",
       "    .dataframe tbody tr th:only-of-type {\n",
       "        vertical-align: middle;\n",
       "    }\n",
       "\n",
       "    .dataframe tbody tr th {\n",
       "        vertical-align: top;\n",
       "    }\n",
       "\n",
       "    .dataframe thead th {\n",
       "        text-align: right;\n",
       "    }\n",
       "</style>\n",
       "<table border=\"1\" class=\"dataframe\">\n",
       "  <thead>\n",
       "    <tr style=\"text-align: right;\">\n",
       "      <th></th>\n",
       "      <th>CommentID</th>\n",
       "      <th>Author</th>\n",
       "      <th>Date</th>\n",
       "      <th>Content</th>\n",
       "      <th>Class</th>\n",
       "    </tr>\n",
       "  </thead>\n",
       "  <tbody>\n",
       "    <tr>\n",
       "      <th>0</th>\n",
       "      <td>LZQPQhLyRh80UYxNuaDWhIGQYNQ96IuCg-AYWqNPjpU</td>\n",
       "      <td>Julius NM</td>\n",
       "      <td>2013-11-07T06:20:48</td>\n",
       "      <td>Huh, anyway check out this you[tube] channel: ...</td>\n",
       "      <td>1</td>\n",
       "    </tr>\n",
       "    <tr>\n",
       "      <th>1</th>\n",
       "      <td>LZQPQhLyRh_C2cTtd9MvFRJedxydaVW-2sNg5Diuo4A</td>\n",
       "      <td>adam riyati</td>\n",
       "      <td>2013-11-07T12:37:15</td>\n",
       "      <td>Hey guys check out my new channel and our firs...</td>\n",
       "      <td>1</td>\n",
       "    </tr>\n",
       "    <tr>\n",
       "      <th>2</th>\n",
       "      <td>LZQPQhLyRh9MSZYnf8djyk0gEF9BHDPYrrK-qCczIY8</td>\n",
       "      <td>Evgeny Murashkin</td>\n",
       "      <td>2013-11-08T17:34:21</td>\n",
       "      <td>just for test I have to say murdev.com</td>\n",
       "      <td>1</td>\n",
       "    </tr>\n",
       "    <tr>\n",
       "      <th>3</th>\n",
       "      <td>z13jhp0bxqncu512g22wvzkasxmvvzjaz04</td>\n",
       "      <td>ElNino Melendez</td>\n",
       "      <td>2013-11-09T08:28:43</td>\n",
       "      <td>me shaking my sexy ass on my channel enjoy ^_^ ﻿</td>\n",
       "      <td>1</td>\n",
       "    </tr>\n",
       "    <tr>\n",
       "      <th>4</th>\n",
       "      <td>z13fwbwp1oujthgqj04chlngpvzmtt3r3dw</td>\n",
       "      <td>GsMega</td>\n",
       "      <td>2013-11-10T16:05:38</td>\n",
       "      <td>watch?v=vtaRGgvGtWQ   Check this out .﻿</td>\n",
       "      <td>1</td>\n",
       "    </tr>\n",
       "    <tr>\n",
       "      <th>...</th>\n",
       "      <td>...</td>\n",
       "      <td>...</td>\n",
       "      <td>...</td>\n",
       "      <td>...</td>\n",
       "      <td>...</td>\n",
       "    </tr>\n",
       "    <tr>\n",
       "      <th>1951</th>\n",
       "      <td>_2viQ_Qnc6-bMSjqyL1NKj57ROicCSJV5SwTrw-RFFA</td>\n",
       "      <td>Katie Mettam</td>\n",
       "      <td>2013-07-13T13:27:39.441000</td>\n",
       "      <td>I love this song because we sing it at Camp al...</td>\n",
       "      <td>0</td>\n",
       "    </tr>\n",
       "    <tr>\n",
       "      <th>1952</th>\n",
       "      <td>_2viQ_Qnc6-pY-1yR6K2FhmC5i48-WuNx5CumlHLDAI</td>\n",
       "      <td>Sabina Pearson-Smith</td>\n",
       "      <td>2013-07-13T13:14:30.021000</td>\n",
       "      <td>I love this song for two reasons: 1.it is abou...</td>\n",
       "      <td>0</td>\n",
       "    </tr>\n",
       "    <tr>\n",
       "      <th>1953</th>\n",
       "      <td>_2viQ_Qnc6_k_n_Bse9zVhJP8tJReZpo8uM2uZfnzDs</td>\n",
       "      <td>jeffrey jules</td>\n",
       "      <td>2013-07-13T12:09:31.188000</td>\n",
       "      <td>wow</td>\n",
       "      <td>0</td>\n",
       "    </tr>\n",
       "    <tr>\n",
       "      <th>1954</th>\n",
       "      <td>_2viQ_Qnc6_yBt8UGMWyg3vh0PulTqcqyQtdE7d4Fl0</td>\n",
       "      <td>Aishlin Maciel</td>\n",
       "      <td>2013-07-13T11:17:52.308000</td>\n",
       "      <td>Shakira u are so wiredo</td>\n",
       "      <td>0</td>\n",
       "    </tr>\n",
       "    <tr>\n",
       "      <th>1955</th>\n",
       "      <td>_2viQ_Qnc685RPw1aSa1tfrIuHXRvAQ2rPT9R06KTqA</td>\n",
       "      <td>Latin Bosch</td>\n",
       "      <td>2013-07-12T22:33:27.916000</td>\n",
       "      <td>Shakira is the best dancer</td>\n",
       "      <td>0</td>\n",
       "    </tr>\n",
       "  </tbody>\n",
       "</table>\n",
       "<p>1956 rows × 5 columns</p>\n",
       "</div>"
      ],
      "text/plain": [
       "                                        CommentID                Author  \\\n",
       "0     LZQPQhLyRh80UYxNuaDWhIGQYNQ96IuCg-AYWqNPjpU             Julius NM   \n",
       "1     LZQPQhLyRh_C2cTtd9MvFRJedxydaVW-2sNg5Diuo4A           adam riyati   \n",
       "2     LZQPQhLyRh9MSZYnf8djyk0gEF9BHDPYrrK-qCczIY8      Evgeny Murashkin   \n",
       "3             z13jhp0bxqncu512g22wvzkasxmvvzjaz04       ElNino Melendez   \n",
       "4             z13fwbwp1oujthgqj04chlngpvzmtt3r3dw                GsMega   \n",
       "...                                           ...                   ...   \n",
       "1951  _2viQ_Qnc6-bMSjqyL1NKj57ROicCSJV5SwTrw-RFFA          Katie Mettam   \n",
       "1952  _2viQ_Qnc6-pY-1yR6K2FhmC5i48-WuNx5CumlHLDAI  Sabina Pearson-Smith   \n",
       "1953  _2viQ_Qnc6_k_n_Bse9zVhJP8tJReZpo8uM2uZfnzDs         jeffrey jules   \n",
       "1954  _2viQ_Qnc6_yBt8UGMWyg3vh0PulTqcqyQtdE7d4Fl0        Aishlin Maciel   \n",
       "1955  _2viQ_Qnc685RPw1aSa1tfrIuHXRvAQ2rPT9R06KTqA           Latin Bosch   \n",
       "\n",
       "                            Date  \\\n",
       "0            2013-11-07T06:20:48   \n",
       "1            2013-11-07T12:37:15   \n",
       "2            2013-11-08T17:34:21   \n",
       "3            2013-11-09T08:28:43   \n",
       "4            2013-11-10T16:05:38   \n",
       "...                          ...   \n",
       "1951  2013-07-13T13:27:39.441000   \n",
       "1952  2013-07-13T13:14:30.021000   \n",
       "1953  2013-07-13T12:09:31.188000   \n",
       "1954  2013-07-13T11:17:52.308000   \n",
       "1955  2013-07-12T22:33:27.916000   \n",
       "\n",
       "                                                Content Class  \n",
       "0     Huh, anyway check out this you[tube] channel: ...     1  \n",
       "1     Hey guys check out my new channel and our firs...     1  \n",
       "2                just for test I have to say murdev.com     1  \n",
       "3      me shaking my sexy ass on my channel enjoy ^_^ ﻿     1  \n",
       "4               watch?v=vtaRGgvGtWQ   Check this out .﻿     1  \n",
       "...                                                 ...   ...  \n",
       "1951  I love this song because we sing it at Camp al...     0  \n",
       "1952  I love this song for two reasons: 1.it is abou...     0  \n",
       "1953                                                wow     0  \n",
       "1954                            Shakira u are so wiredo     0  \n",
       "1955                         Shakira is the best dancer     0  \n",
       "\n",
       "[1956 rows x 5 columns]"
      ]
     },
     "execution_count": 6,
     "metadata": {},
     "output_type": "execute_result"
    }
   ],
   "source": [
    "Df"
   ]
  },
  {
   "cell_type": "code",
   "execution_count": 7,
   "metadata": {},
   "outputs": [
    {
     "data": {
      "text/html": [
       "<div>\n",
       "<style scoped>\n",
       "    .dataframe tbody tr th:only-of-type {\n",
       "        vertical-align: middle;\n",
       "    }\n",
       "\n",
       "    .dataframe tbody tr th {\n",
       "        vertical-align: top;\n",
       "    }\n",
       "\n",
       "    .dataframe thead th {\n",
       "        text-align: right;\n",
       "    }\n",
       "</style>\n",
       "<table border=\"1\" class=\"dataframe\">\n",
       "  <thead>\n",
       "    <tr style=\"text-align: right;\">\n",
       "      <th></th>\n",
       "      <th>CommentID</th>\n",
       "      <th>Author</th>\n",
       "      <th>Date</th>\n",
       "      <th>Content</th>\n",
       "      <th>Class</th>\n",
       "    </tr>\n",
       "  </thead>\n",
       "  <tbody>\n",
       "    <tr>\n",
       "      <th>count</th>\n",
       "      <td>1956</td>\n",
       "      <td>1956</td>\n",
       "      <td>1711</td>\n",
       "      <td>1956</td>\n",
       "      <td>1956</td>\n",
       "    </tr>\n",
       "    <tr>\n",
       "      <th>unique</th>\n",
       "      <td>1953</td>\n",
       "      <td>1792</td>\n",
       "      <td>1709</td>\n",
       "      <td>1760</td>\n",
       "      <td>2</td>\n",
       "    </tr>\n",
       "    <tr>\n",
       "      <th>top</th>\n",
       "      <td>_2viQ_Qnc68fX3dYsfYuM-m4ELMJvxOQBmBOFHqGOk0</td>\n",
       "      <td>M.E.S</td>\n",
       "      <td>2014-11-07T19:33:46</td>\n",
       "      <td>Check out this video on YouTube:﻿</td>\n",
       "      <td>1</td>\n",
       "    </tr>\n",
       "    <tr>\n",
       "      <th>freq</th>\n",
       "      <td>2</td>\n",
       "      <td>8</td>\n",
       "      <td>2</td>\n",
       "      <td>97</td>\n",
       "      <td>1005</td>\n",
       "    </tr>\n",
       "  </tbody>\n",
       "</table>\n",
       "</div>"
      ],
      "text/plain": [
       "                                          CommentID Author  \\\n",
       "count                                          1956   1956   \n",
       "unique                                         1953   1792   \n",
       "top     _2viQ_Qnc68fX3dYsfYuM-m4ELMJvxOQBmBOFHqGOk0  M.E.S   \n",
       "freq                                              2      8   \n",
       "\n",
       "                       Date                            Content Class  \n",
       "count                  1711                               1956  1956  \n",
       "unique                 1709                               1760     2  \n",
       "top     2014-11-07T19:33:46  Check out this video on YouTube:﻿     1  \n",
       "freq                      2                                 97  1005  "
      ]
     },
     "execution_count": 7,
     "metadata": {},
     "output_type": "execute_result"
    }
   ],
   "source": [
    "Df.describe()"
   ]
  },
  {
   "cell_type": "code",
   "execution_count": 8,
   "metadata": {},
   "outputs": [
    {
     "name": "stdout",
     "output_type": "stream",
     "text": [
      "<class 'pandas.core.frame.DataFrame'>\n",
      "RangeIndex: 1956 entries, 0 to 1955\n",
      "Data columns (total 5 columns):\n",
      " #   Column     Non-Null Count  Dtype \n",
      "---  ------     --------------  ----- \n",
      " 0   CommentID  1956 non-null   object\n",
      " 1   Author     1956 non-null   object\n",
      " 2   Date       1711 non-null   object\n",
      " 3   Content    1956 non-null   object\n",
      " 4   Class      1956 non-null   object\n",
      "dtypes: object(5)\n",
      "memory usage: 76.5+ KB\n"
     ]
    }
   ],
   "source": [
    "Df.info()"
   ]
  },
  {
   "cell_type": "code",
   "execution_count": 9,
   "metadata": {},
   "outputs": [
    {
     "name": "stdout",
     "output_type": "stream",
     "text": [
      "CommentID      0\n",
      "Author         0\n",
      "Date         245\n",
      "Content        0\n",
      "Class          0\n",
      "dtype: int64\n"
     ]
    }
   ],
   "source": [
    "print(Df.isnull().sum())"
   ]
  },
  {
   "cell_type": "code",
   "execution_count": 10,
   "metadata": {},
   "outputs": [
    {
     "data": {
      "text/html": [
       "<div>\n",
       "<style scoped>\n",
       "    .dataframe tbody tr th:only-of-type {\n",
       "        vertical-align: middle;\n",
       "    }\n",
       "\n",
       "    .dataframe tbody tr th {\n",
       "        vertical-align: top;\n",
       "    }\n",
       "\n",
       "    .dataframe thead tr th {\n",
       "        text-align: left;\n",
       "    }\n",
       "\n",
       "    .dataframe thead tr:last-of-type th {\n",
       "        text-align: right;\n",
       "    }\n",
       "</style>\n",
       "<table border=\"1\" class=\"dataframe\">\n",
       "  <thead>\n",
       "    <tr>\n",
       "      <th></th>\n",
       "      <th colspan=\"4\" halign=\"left\">CommentID</th>\n",
       "      <th colspan=\"4\" halign=\"left\">Author</th>\n",
       "      <th colspan=\"4\" halign=\"left\">Date</th>\n",
       "      <th colspan=\"4\" halign=\"left\">Content</th>\n",
       "    </tr>\n",
       "    <tr>\n",
       "      <th></th>\n",
       "      <th>count</th>\n",
       "      <th>unique</th>\n",
       "      <th>top</th>\n",
       "      <th>freq</th>\n",
       "      <th>count</th>\n",
       "      <th>unique</th>\n",
       "      <th>top</th>\n",
       "      <th>freq</th>\n",
       "      <th>count</th>\n",
       "      <th>unique</th>\n",
       "      <th>top</th>\n",
       "      <th>freq</th>\n",
       "      <th>count</th>\n",
       "      <th>unique</th>\n",
       "      <th>top</th>\n",
       "      <th>freq</th>\n",
       "    </tr>\n",
       "    <tr>\n",
       "      <th>Class</th>\n",
       "      <th></th>\n",
       "      <th></th>\n",
       "      <th></th>\n",
       "      <th></th>\n",
       "      <th></th>\n",
       "      <th></th>\n",
       "      <th></th>\n",
       "      <th></th>\n",
       "      <th></th>\n",
       "      <th></th>\n",
       "      <th></th>\n",
       "      <th></th>\n",
       "      <th></th>\n",
       "      <th></th>\n",
       "      <th></th>\n",
       "      <th></th>\n",
       "    </tr>\n",
       "  </thead>\n",
       "  <tbody>\n",
       "    <tr>\n",
       "      <th>0</th>\n",
       "      <td>951</td>\n",
       "      <td>950</td>\n",
       "      <td>_2viQ_Qnc68fX3dYsfYuM-m4ELMJvxOQBmBOFHqGOk0</td>\n",
       "      <td>2</td>\n",
       "      <td>951</td>\n",
       "      <td>922</td>\n",
       "      <td>5000palo</td>\n",
       "      <td>7</td>\n",
       "      <td>951</td>\n",
       "      <td>950</td>\n",
       "      <td>2013-10-05T00:57:25.078000</td>\n",
       "      <td>2</td>\n",
       "      <td>951</td>\n",
       "      <td>919</td>\n",
       "      <td>wow</td>\n",
       "      <td>4</td>\n",
       "    </tr>\n",
       "    <tr>\n",
       "      <th>1</th>\n",
       "      <td>1005</td>\n",
       "      <td>1003</td>\n",
       "      <td>LneaDw26bFuH6iFsSrjlJLJIX3qD4R8-emuZ-aGUj0o</td>\n",
       "      <td>2</td>\n",
       "      <td>1005</td>\n",
       "      <td>871</td>\n",
       "      <td>M.E.S</td>\n",
       "      <td>8</td>\n",
       "      <td>760</td>\n",
       "      <td>760</td>\n",
       "      <td>2014-10-02T13:17:36</td>\n",
       "      <td>1</td>\n",
       "      <td>1005</td>\n",
       "      <td>841</td>\n",
       "      <td>Check out this video on YouTube:﻿</td>\n",
       "      <td>97</td>\n",
       "    </tr>\n",
       "  </tbody>\n",
       "</table>\n",
       "</div>"
      ],
      "text/plain": [
       "      CommentID                                                           \\\n",
       "          count unique                                          top freq   \n",
       "Class                                                                      \n",
       "0           951    950  _2viQ_Qnc68fX3dYsfYuM-m4ELMJvxOQBmBOFHqGOk0    2   \n",
       "1          1005   1003  LneaDw26bFuH6iFsSrjlJLJIX3qD4R8-emuZ-aGUj0o    2   \n",
       "\n",
       "      Author                        Date                                     \\\n",
       "       count unique       top freq count unique                         top   \n",
       "Class                                                                         \n",
       "0        951    922  5000palo    7   951    950  2013-10-05T00:57:25.078000   \n",
       "1       1005    871     M.E.S    8   760    760         2014-10-02T13:17:36   \n",
       "\n",
       "           Content                                                 \n",
       "      freq   count unique                                top freq  \n",
       "Class                                                              \n",
       "0        2     951    919                                wow    4  \n",
       "1        1    1005    841  Check out this video on YouTube:﻿   97  "
      ]
     },
     "execution_count": 10,
     "metadata": {},
     "output_type": "execute_result"
    }
   ],
   "source": [
    "#exploring the data based on the spam or ham\n",
    "Df.groupby('Class').describe()"
   ]
  },
  {
   "cell_type": "code",
   "execution_count": 11,
   "metadata": {},
   "outputs": [
    {
     "name": "stdout",
     "output_type": "stream",
     "text": [
      "<class 'pandas.core.frame.DataFrame'>\n",
      "RangeIndex: 1956 entries, 0 to 1955\n",
      "Data columns (total 6 columns):\n",
      " #   Column     Non-Null Count  Dtype \n",
      "---  ------     --------------  ----- \n",
      " 0   CommentID  1956 non-null   object\n",
      " 1   Author     1956 non-null   object\n",
      " 2   Date       1711 non-null   object\n",
      " 3   Content    1956 non-null   object\n",
      " 4   Class      1956 non-null   object\n",
      " 5   Length     1956 non-null   int64 \n",
      "dtypes: int64(1), object(5)\n",
      "memory usage: 91.8+ KB\n"
     ]
    }
   ],
   "source": [
    "#inserting a new attribute 'length' that consists the character length of the comments\n",
    "Df['Length']= Df['Content'].apply(len)\n",
    "Df.info()"
   ]
  },
  {
   "cell_type": "code",
   "execution_count": 12,
   "metadata": {},
   "outputs": [
    {
     "data": {
      "text/html": [
       "<div>\n",
       "<style scoped>\n",
       "    .dataframe tbody tr th:only-of-type {\n",
       "        vertical-align: middle;\n",
       "    }\n",
       "\n",
       "    .dataframe tbody tr th {\n",
       "        vertical-align: top;\n",
       "    }\n",
       "\n",
       "    .dataframe thead th {\n",
       "        text-align: right;\n",
       "    }\n",
       "</style>\n",
       "<table border=\"1\" class=\"dataframe\">\n",
       "  <thead>\n",
       "    <tr style=\"text-align: right;\">\n",
       "      <th></th>\n",
       "      <th>CommentID</th>\n",
       "      <th>Author</th>\n",
       "      <th>Date</th>\n",
       "      <th>Content</th>\n",
       "      <th>Class</th>\n",
       "      <th>Length</th>\n",
       "    </tr>\n",
       "  </thead>\n",
       "  <tbody>\n",
       "    <tr>\n",
       "      <th>0</th>\n",
       "      <td>LZQPQhLyRh80UYxNuaDWhIGQYNQ96IuCg-AYWqNPjpU</td>\n",
       "      <td>Julius NM</td>\n",
       "      <td>2013-11-07T06:20:48</td>\n",
       "      <td>Huh, anyway check out this you[tube] channel: ...</td>\n",
       "      <td>1</td>\n",
       "      <td>56</td>\n",
       "    </tr>\n",
       "    <tr>\n",
       "      <th>1</th>\n",
       "      <td>LZQPQhLyRh_C2cTtd9MvFRJedxydaVW-2sNg5Diuo4A</td>\n",
       "      <td>adam riyati</td>\n",
       "      <td>2013-11-07T12:37:15</td>\n",
       "      <td>Hey guys check out my new channel and our firs...</td>\n",
       "      <td>1</td>\n",
       "      <td>166</td>\n",
       "    </tr>\n",
       "    <tr>\n",
       "      <th>2</th>\n",
       "      <td>LZQPQhLyRh9MSZYnf8djyk0gEF9BHDPYrrK-qCczIY8</td>\n",
       "      <td>Evgeny Murashkin</td>\n",
       "      <td>2013-11-08T17:34:21</td>\n",
       "      <td>just for test I have to say murdev.com</td>\n",
       "      <td>1</td>\n",
       "      <td>38</td>\n",
       "    </tr>\n",
       "    <tr>\n",
       "      <th>3</th>\n",
       "      <td>z13jhp0bxqncu512g22wvzkasxmvvzjaz04</td>\n",
       "      <td>ElNino Melendez</td>\n",
       "      <td>2013-11-09T08:28:43</td>\n",
       "      <td>me shaking my sexy ass on my channel enjoy ^_^ ﻿</td>\n",
       "      <td>1</td>\n",
       "      <td>48</td>\n",
       "    </tr>\n",
       "    <tr>\n",
       "      <th>4</th>\n",
       "      <td>z13fwbwp1oujthgqj04chlngpvzmtt3r3dw</td>\n",
       "      <td>GsMega</td>\n",
       "      <td>2013-11-10T16:05:38</td>\n",
       "      <td>watch?v=vtaRGgvGtWQ   Check this out .﻿</td>\n",
       "      <td>1</td>\n",
       "      <td>39</td>\n",
       "    </tr>\n",
       "    <tr>\n",
       "      <th>...</th>\n",
       "      <td>...</td>\n",
       "      <td>...</td>\n",
       "      <td>...</td>\n",
       "      <td>...</td>\n",
       "      <td>...</td>\n",
       "      <td>...</td>\n",
       "    </tr>\n",
       "    <tr>\n",
       "      <th>1951</th>\n",
       "      <td>_2viQ_Qnc6-bMSjqyL1NKj57ROicCSJV5SwTrw-RFFA</td>\n",
       "      <td>Katie Mettam</td>\n",
       "      <td>2013-07-13T13:27:39.441000</td>\n",
       "      <td>I love this song because we sing it at Camp al...</td>\n",
       "      <td>0</td>\n",
       "      <td>58</td>\n",
       "    </tr>\n",
       "    <tr>\n",
       "      <th>1952</th>\n",
       "      <td>_2viQ_Qnc6-pY-1yR6K2FhmC5i48-WuNx5CumlHLDAI</td>\n",
       "      <td>Sabina Pearson-Smith</td>\n",
       "      <td>2013-07-13T13:14:30.021000</td>\n",
       "      <td>I love this song for two reasons: 1.it is abou...</td>\n",
       "      <td>0</td>\n",
       "      <td>93</td>\n",
       "    </tr>\n",
       "    <tr>\n",
       "      <th>1953</th>\n",
       "      <td>_2viQ_Qnc6_k_n_Bse9zVhJP8tJReZpo8uM2uZfnzDs</td>\n",
       "      <td>jeffrey jules</td>\n",
       "      <td>2013-07-13T12:09:31.188000</td>\n",
       "      <td>wow</td>\n",
       "      <td>0</td>\n",
       "      <td>3</td>\n",
       "    </tr>\n",
       "    <tr>\n",
       "      <th>1954</th>\n",
       "      <td>_2viQ_Qnc6_yBt8UGMWyg3vh0PulTqcqyQtdE7d4Fl0</td>\n",
       "      <td>Aishlin Maciel</td>\n",
       "      <td>2013-07-13T11:17:52.308000</td>\n",
       "      <td>Shakira u are so wiredo</td>\n",
       "      <td>0</td>\n",
       "      <td>23</td>\n",
       "    </tr>\n",
       "    <tr>\n",
       "      <th>1955</th>\n",
       "      <td>_2viQ_Qnc685RPw1aSa1tfrIuHXRvAQ2rPT9R06KTqA</td>\n",
       "      <td>Latin Bosch</td>\n",
       "      <td>2013-07-12T22:33:27.916000</td>\n",
       "      <td>Shakira is the best dancer</td>\n",
       "      <td>0</td>\n",
       "      <td>26</td>\n",
       "    </tr>\n",
       "  </tbody>\n",
       "</table>\n",
       "<p>1956 rows × 6 columns</p>\n",
       "</div>"
      ],
      "text/plain": [
       "                                        CommentID                Author  \\\n",
       "0     LZQPQhLyRh80UYxNuaDWhIGQYNQ96IuCg-AYWqNPjpU             Julius NM   \n",
       "1     LZQPQhLyRh_C2cTtd9MvFRJedxydaVW-2sNg5Diuo4A           adam riyati   \n",
       "2     LZQPQhLyRh9MSZYnf8djyk0gEF9BHDPYrrK-qCczIY8      Evgeny Murashkin   \n",
       "3             z13jhp0bxqncu512g22wvzkasxmvvzjaz04       ElNino Melendez   \n",
       "4             z13fwbwp1oujthgqj04chlngpvzmtt3r3dw                GsMega   \n",
       "...                                           ...                   ...   \n",
       "1951  _2viQ_Qnc6-bMSjqyL1NKj57ROicCSJV5SwTrw-RFFA          Katie Mettam   \n",
       "1952  _2viQ_Qnc6-pY-1yR6K2FhmC5i48-WuNx5CumlHLDAI  Sabina Pearson-Smith   \n",
       "1953  _2viQ_Qnc6_k_n_Bse9zVhJP8tJReZpo8uM2uZfnzDs         jeffrey jules   \n",
       "1954  _2viQ_Qnc6_yBt8UGMWyg3vh0PulTqcqyQtdE7d4Fl0        Aishlin Maciel   \n",
       "1955  _2viQ_Qnc685RPw1aSa1tfrIuHXRvAQ2rPT9R06KTqA           Latin Bosch   \n",
       "\n",
       "                            Date  \\\n",
       "0            2013-11-07T06:20:48   \n",
       "1            2013-11-07T12:37:15   \n",
       "2            2013-11-08T17:34:21   \n",
       "3            2013-11-09T08:28:43   \n",
       "4            2013-11-10T16:05:38   \n",
       "...                          ...   \n",
       "1951  2013-07-13T13:27:39.441000   \n",
       "1952  2013-07-13T13:14:30.021000   \n",
       "1953  2013-07-13T12:09:31.188000   \n",
       "1954  2013-07-13T11:17:52.308000   \n",
       "1955  2013-07-12T22:33:27.916000   \n",
       "\n",
       "                                                Content Class  Length  \n",
       "0     Huh, anyway check out this you[tube] channel: ...     1      56  \n",
       "1     Hey guys check out my new channel and our firs...     1     166  \n",
       "2                just for test I have to say murdev.com     1      38  \n",
       "3      me shaking my sexy ass on my channel enjoy ^_^ ﻿     1      48  \n",
       "4               watch?v=vtaRGgvGtWQ   Check this out .﻿     1      39  \n",
       "...                                                 ...   ...     ...  \n",
       "1951  I love this song because we sing it at Camp al...     0      58  \n",
       "1952  I love this song for two reasons: 1.it is abou...     0      93  \n",
       "1953                                                wow     0       3  \n",
       "1954                            Shakira u are so wiredo     0      23  \n",
       "1955                         Shakira is the best dancer     0      26  \n",
       "\n",
       "[1956 rows x 6 columns]"
      ]
     },
     "execution_count": 12,
     "metadata": {},
     "output_type": "execute_result"
    }
   ],
   "source": [
    "Df"
   ]
  },
  {
   "cell_type": "code",
   "execution_count": 13,
   "metadata": {},
   "outputs": [
    {
     "data": {
      "text/plain": [
       "Text(0, 0.5, 'Frequency')"
      ]
     },
     "execution_count": 13,
     "metadata": {},
     "output_type": "execute_result"
    },
    {
     "data": {
      "image/png": "[encoded data removed]",
      "text/plain": [
       "<Figure size 432x288 with 1 Axes>"
      ]
     },
     "metadata": {
      "needs_background": "light"
     },
     "output_type": "display_data"
    }
   ],
   "source": [
    "#creating a histogram based on the length of the comments and their frequency\n",
    "plt.hist(Df['Length'], bins = 100, edgecolor=\"black\")\n",
    "plt.xlabel(\"Length\")\n",
    "plt.ylabel(\"Frequency\")"
   ]
  },
  {
   "cell_type": "code",
   "execution_count": 14,
   "metadata": {},
   "outputs": [
    {
     "data": {
      "text/plain": [
       "array([<AxesSubplot:title={'center':'0'}>,\n",
       "       <AxesSubplot:title={'center':'1'}>], dtype=object)"
      ]
     },
     "execution_count": 14,
     "metadata": {},
     "output_type": "execute_result"
    },
    {
     "data": {
      "image/png": "[encoded data removed]",
      "text/plain": [
       "<Figure size 864x288 with 2 Axes>"
      ]
     },
     "metadata": {
      "needs_background": "light"
     },
     "output_type": "display_data"
    }
   ],
   "source": [
    "#exploring for patterns by grouping the above histogram by class \n",
    "Df.hist(column='Length', by='Class', bins=75, figsize=(12,4), edgecolor=\"black\")"
   ]
  },
  {
   "cell_type": "code",
   "execution_count": 15,
   "metadata": {},
   "outputs": [
    {
     "data": {
      "text/plain": [
       "<AxesSubplot:xlabel='Class', ylabel='Length'>"
      ]
     },
     "execution_count": 15,
     "metadata": {},
     "output_type": "execute_result"
    },
    {
     "data": {
      "image/png": "[encoded data removed]",
      "text/plain": [
       "<Figure size 432x288 with 1 Axes>"
      ]
     },
     "metadata": {
      "needs_background": "light"
     },
     "output_type": "display_data"
    }
   ],
   "source": [
    "#creating a boxplot of the length of the comments to recognize the median and the spread of the lengths of the comments by class\n",
    "sns.boxplot(x='Class', y ='Length', data=Df, palette = 'Set2')"
   ]
  },
  {
   "cell_type": "code",
   "execution_count": 16,
   "metadata": {},
   "outputs": [
    {
     "data": {
      "text/plain": [
       "<AxesSubplot:xlabel='Class', ylabel='count'>"
      ]
     },
     "execution_count": 16,
     "metadata": {},
     "output_type": "execute_result"
    },
    {
     "data": {
      "image/png": "[encoded data removed]",
      "text/plain": [
       "<Figure size 432x288 with 1 Axes>"
      ]
     },
     "metadata": {
      "needs_background": "light"
     },
     "output_type": "display_data"
    }
   ],
   "source": [
    "#creating a plot based on the total samples belonging to each class\n",
    "sns.countplot(x='Class', data=Df, palette='Set1')"
   ]
  },
  {
   "cell_type": "code",
   "execution_count": 17,
   "metadata": {},
   "outputs": [
    {
     "name": "stdout",
     "output_type": "stream",
     "text": [
      "0       Huh, anyway check out this you[tube] channel: ...\n",
      "1       Hey guys check out my new channel and our firs...\n",
      "2                  just for test I have to say murdev.com\n",
      "3        me shaking my sexy ass on my channel enjoy ^_^ ﻿\n",
      "4                 watch?v=vtaRGgvGtWQ   Check this out .﻿\n",
      "                              ...                        \n",
      "1951    I love this song because we sing it at Camp al...\n",
      "1952    I love this song for two reasons: 1.it is abou...\n",
      "1953                                                  wow\n",
      "1954                              Shakira u are so wiredo\n",
      "1955                           Shakira is the best dancer\n",
      "Name: Content, Length: 1956, dtype: object\n"
     ]
    }
   ],
   "source": [
    "CmtAr= Df['Content']\n",
    "print(CmtAr)"
   ]
  },
  {
   "cell_type": "markdown",
   "metadata": {},
   "source": [
    "# Data Normalization"
   ]
  },
  {
   "cell_type": "code",
   "execution_count": 18,
   "metadata": {},
   "outputs": [
    {
     "name": "stdout",
     "output_type": "stream",
     "text": [
      "{'needn', 'only', 'been', 'about', 'below', 'at', 'here', 'do', 'herself', 'during', 'mightn', 'now', 'each', 'being', \"hadn't\", 'his', 'not', 'didn', 'few', 'its', \"wasn't\", 'then', \"shan't\", 'my', \"you're\", 'theirs', 'all', 'into', 'were', 'because', 'or', 'hadn', 'same', 'too', 'wouldn', 'haven', 'a', 'whom', 'doing', 're', \"should've\", 'mustn', \"wouldn't\", 'on', 'what', 'did', \"doesn't\", 'just', 'yourselves', 'him', 'most', 'our', \"hasn't\", 'hasn', \"don't\", 'yourself', 'won', 'ain', 'm', \"needn't\", 'i', 'hers', 'there', 'from', 'both', 'can', 'isn', \"couldn't\", 'was', 'if', 'with', \"weren't\", 'until', 'them', 'such', \"mightn't\", 'as', 'weren', 'shan', 'these', 'more', 'so', 'again', 'shouldn', 'will', 'don', \"that'll\", 's', 'doesn', 'this', 'through', 'but', 'itself', 'other', 'o', 'it', 'y', 'by', 'he', 'wasn', \"isn't\", 'out', 'above', 'to', 'll', 'and', 'any', 'should', 'for', 'ourselves', 'in', 'down', 'no', 'while', \"you'll\", 'some', 'where', 'under', 'she', 'ours', \"aren't\", 'the', 'have', 'had', 'they', 'over', \"didn't\", 'your', 'which', 'does', 'd', 'those', 'up', 'nor', 'having', 'own', 'their', 'am', \"you'd\", 'after', 'further', 'are', 't', 'how', 'aren', 'couldn', \"she's\", \"haven't\", \"mustn't\", 'of', 'than', \"shouldn't\", 'her', 'myself', 'that', \"you've\", 'has', 'ma', \"won't\", 'between', 'against', 'we', 'an', 'before', 'when', 'himself', \"it's\", 'be', 'once', 'is', 'me', 'who', 'why', 'yours', 'you', 'themselves', 'off', 'very', 've'}\n"
     ]
    }
   ],
   "source": [
    "stop_words = set(stopwords.words('english'))\n",
    "print(stop_words)"
   ]
  },
  {
   "cell_type": "code",
   "execution_count": 19,
   "metadata": {},
   "outputs": [],
   "source": [
    "#creating a function as a custom analyzer to implemet feature selection, includes filtering out stop words and trivial characters and lemmatizing\n",
    "def text_process(raw_text):\n",
    "    porter=nltk.PorterStemmer\n",
    "#     new_cmnt=list(filter(lambda letter: letter not in string.punctuation, raw_text))\n",
    "#     new_cmnt = \"\".join(new_cmnt)\n",
    "    new_cmnt=raw_text.split()             \n",
    "    new_cmnt=list(filter(lambda word: word.lower() not in stop_words, new_cmnt))\n",
    "    #porter=nltk.PorterStemmer()\n",
    "    wnl = nltk.WordNetLemmatizer()\n",
    "    list1=[]\n",
    "    for word in new_cmnt:\n",
    "        list1.append(wnl.lemmatize(word.lower()))\n",
    "    return list1"
   ]
  },
  {
   "cell_type": "code",
   "execution_count": 20,
   "metadata": {},
   "outputs": [],
   "source": [
    "Cmt_Processed = CmtAr.apply(text_process)"
   ]
  },
  {
   "cell_type": "code",
   "execution_count": 21,
   "metadata": {},
   "outputs": [
    {
     "data": {
      "text/plain": [
       "0       [huh,, anyway, check, you[tube], channel:, kob...\n",
       "1       [hey, guy, check, new, channel, first, vid, u,...\n",
       "2                                 [test, say, murdev.com]\n",
       "3             [shaking, sexy, as, channel, enjoy, ^_^, ﻿]\n",
       "4                        [watch?v=vtarggvgtwq, check, .﻿]\n",
       "                              ...                        \n",
       "1951                     [love, song, sing, camp, time!!]\n",
       "1952    [love, song, two, reasons:, 1.it, africa, 2.i,...\n",
       "1953                                                [wow]\n",
       "1954                                 [shakira, u, wiredo]\n",
       "1955                              [shakira, best, dancer]\n",
       "Name: Content, Length: 1956, dtype: object"
      ]
     },
     "execution_count": 21,
     "metadata": {},
     "output_type": "execute_result"
    }
   ],
   "source": [
    "Cmt_Processed"
   ]
  },
  {
   "cell_type": "code",
   "execution_count": 22,
   "metadata": {},
   "outputs": [],
   "source": [
    "Cmt_Processed=Cmt_Processed.apply(lambda x: \" \".join(x) )"
   ]
  },
  {
   "cell_type": "code",
   "execution_count": 23,
   "metadata": {},
   "outputs": [
    {
     "data": {
      "text/plain": [
       "'get gwar play 2015 superbowl http://www.change.org/petitions/the-national-football-league-allow-gwar-to-perform-the-2015-super-bowl-halftime-show#share \\ufeff'"
      ]
     },
     "execution_count": 23,
     "metadata": {},
     "output_type": "execute_result"
    }
   ],
   "source": [
    "Cmt_Processed.iloc[54]"
   ]
  },
  {
   "cell_type": "markdown",
   "metadata": {},
   "source": [
    "# Splitting into Training and Testing Dataset"
   ]
  },
  {
   "cell_type": "code",
   "execution_count": 24,
   "metadata": {},
   "outputs": [],
   "source": [
    "Y=Df['Class']"
   ]
  },
  {
   "cell_type": "code",
   "execution_count": 25,
   "metadata": {},
   "outputs": [
    {
     "data": {
      "text/plain": [
       "'1'"
      ]
     },
     "execution_count": 25,
     "metadata": {},
     "output_type": "execute_result"
    }
   ],
   "source": [
    "Y.iloc[54]"
   ]
  },
  {
   "cell_type": "code",
   "execution_count": 26,
   "metadata": {},
   "outputs": [],
   "source": [
    "X_train, X_test, Y_train, Y_test = train_test_split(Cmt_Processed,Y, test_size=1/3, random_state=42)"
   ]
  },
  {
   "cell_type": "code",
   "execution_count": 27,
   "metadata": {},
   "outputs": [
    {
     "data": {
      "text/plain": [
       "(652,)"
      ]
     },
     "execution_count": 27,
     "metadata": {},
     "output_type": "execute_result"
    }
   ],
   "source": [
    "X_test.shape"
   ]
  },
  {
   "cell_type": "code",
   "execution_count": 28,
   "metadata": {},
   "outputs": [
    {
     "data": {
      "text/plain": [
       "(1304,)"
      ]
     },
     "execution_count": 28,
     "metadata": {},
     "output_type": "execute_result"
    }
   ],
   "source": [
    "X_train.shape"
   ]
  },
  {
   "cell_type": "code",
   "execution_count": 29,
   "metadata": {},
   "outputs": [
    {
     "data": {
      "text/plain": [
       "1879    know people make another account subscribing l...\n",
       "834     else saw jesses dancing sorry spelled wrong pe...\n",
       "1429    hey guy please subscribe channel im young dedi...\n",
       "1063    hey guy subscribe chanel subscribe back like v...\n",
       "1615                                                like﻿\n",
       "                              ...                        \n",
       "1130    everyone please subscribe channel go look video ﻿\n",
       "1294    watch youtube video &quot;eminem -ytma artist ...\n",
       "860                                              awesome﻿\n",
       "1459                              like lyric music video﻿\n",
       "1126                                learned shuffle them﻿\n",
       "Name: Content, Length: 1304, dtype: object"
      ]
     },
     "execution_count": 29,
     "metadata": {},
     "output_type": "execute_result"
    }
   ],
   "source": [
    "X_train"
   ]
  },
  {
   "cell_type": "code",
   "execution_count": 30,
   "metadata": {},
   "outputs": [
    {
     "data": {
      "text/plain": [
       "1879    1\n",
       "834     0\n",
       "1429    1\n",
       "1063    1\n",
       "1615    0\n",
       "       ..\n",
       "1130    1\n",
       "1294    1\n",
       "860     0\n",
       "1459    0\n",
       "1126    0\n",
       "Name: Class, Length: 1304, dtype: object"
      ]
     },
     "execution_count": 30,
     "metadata": {},
     "output_type": "execute_result"
    }
   ],
   "source": [
    "Y_train"
   ]
  },
  {
   "cell_type": "markdown",
   "metadata": {},
   "source": [
    "# Vectorization"
   ]
  },
  {
   "cell_type": "code",
   "execution_count": 31,
   "metadata": {},
   "outputs": [],
   "source": [
    "import scipy.sparse"
   ]
  },
  {
   "cell_type": "code",
   "execution_count": 32,
   "metadata": {},
   "outputs": [],
   "source": [
    "#using built in word analyzer to preprocess data and creating a bag of words from our training data\n",
    "bow_transformer = CountVectorizer(analyzer='word', strip_accents='unicode').fit(X_train)\n",
    "\n",
    "#bow_transformer = CountVectorizer(analyzer= text_process).fit(CmtAr)"
   ]
  },
  {
   "cell_type": "code",
   "execution_count": 33,
   "metadata": {},
   "outputs": [
    {
     "name": "stdout",
     "output_type": "stream",
     "text": [
      "3255\n"
     ]
    }
   ],
   "source": [
    "print(len(bow_transformer.vocabulary_))"
   ]
  },
  {
   "cell_type": "code",
   "execution_count": 34,
   "metadata": {},
   "outputs": [],
   "source": [
    "#creating a numerical sparse matrix from the text using the bag of words\n",
    "cmt_testbow= bow_transformer.transform(X_test)\n",
    "cmt_trainbow= bow_transformer.transform(X_train)"
   ]
  },
  {
   "cell_type": "code",
   "execution_count": 35,
   "metadata": {},
   "outputs": [
    {
     "name": "stdout",
     "output_type": "stream",
     "text": [
      "  (0, 657)\t1\n",
      "  (0, 1797)\t1\n",
      "  (1, 497)\t1\n",
      "  (1, 1081)\t1\n",
      "  (1, 2644)\t1\n",
      "  (3, 208)\t1\n",
      "  (3, 257)\t1\n",
      "  (3, 500)\t1\n",
      "  (3, 540)\t2\n",
      "  (3, 544)\t2\n",
      "  (3, 859)\t1\n",
      "  (3, 1136)\t1\n",
      "  (3, 1211)\t1\n",
      "  (3, 1231)\t2\n",
      "  (3, 1294)\t1\n",
      "  (3, 1329)\t1\n",
      "  (3, 1546)\t2\n",
      "  (3, 1599)\t3\n",
      "  (3, 1625)\t1\n",
      "  (3, 1891)\t1\n",
      "  (3, 1951)\t2\n",
      "  (3, 2000)\t1\n",
      "  (3, 2026)\t1\n",
      "  (3, 2107)\t1\n",
      "  (3, 2166)\t1\n",
      "  :\t:\n",
      "  (648, 2831)\t1\n",
      "  (648, 2844)\t1\n",
      "  (648, 2982)\t1\n",
      "  (648, 3016)\t1\n",
      "  (648, 3028)\t1\n",
      "  (648, 3172)\t1\n",
      "  (648, 3181)\t2\n",
      "  (648, 3221)\t1\n",
      "  (648, 3235)\t1\n",
      "  (649, 108)\t1\n",
      "  (649, 156)\t1\n",
      "  (649, 2741)\t1\n",
      "  (649, 3089)\t1\n",
      "  (649, 3125)\t1\n",
      "  (650, 1838)\t1\n",
      "  (650, 1866)\t1\n",
      "  (650, 1983)\t1\n",
      "  (650, 2741)\t1\n",
      "  (651, 404)\t1\n",
      "  (651, 1327)\t1\n",
      "  (651, 1809)\t1\n",
      "  (651, 1978)\t1\n",
      "  (651, 2363)\t1\n",
      "  (651, 2537)\t1\n",
      "  (651, 2644)\t1\n"
     ]
    }
   ],
   "source": [
    "print(cmt_testbow)"
   ]
  },
  {
   "cell_type": "code",
   "execution_count": 36,
   "metadata": {},
   "outputs": [],
   "source": [
    "#creating a equivalent dataframe of the countvectorizer matrix\n",
    "df_bow=pd.DataFrame.sparse.from_spmatrix(cmt_trainbow, columns= bow_transformer.get_feature_names())"
   ]
  },
  {
   "cell_type": "code",
   "execution_count": 37,
   "metadata": {},
   "outputs": [
    {
     "data": {
      "text/html": [
       "<div>\n",
       "<style scoped>\n",
       "    .dataframe tbody tr th:only-of-type {\n",
       "        vertical-align: middle;\n",
       "    }\n",
       "\n",
       "    .dataframe tbody tr th {\n",
       "        vertical-align: top;\n",
       "    }\n",
       "\n",
       "    .dataframe thead th {\n",
       "        text-align: right;\n",
       "    }\n",
       "</style>\n",
       "<table border=\"1\" class=\"dataframe\">\n",
       "  <thead>\n",
       "    <tr style=\"text-align: right;\">\n",
       "      <th></th>\n",
       "      <th>00</th>\n",
       "      <th>000</th>\n",
       "      <th>02</th>\n",
       "      <th>034</th>\n",
       "      <th>04</th>\n",
       "      <th>05</th>\n",
       "      <th>053012</th>\n",
       "      <th>0687119038</th>\n",
       "      <th>0cb8qfjaa</th>\n",
       "      <th>0d878a889c</th>\n",
       "      <th>...</th>\n",
       "      <th>zealous</th>\n",
       "      <th>zesty</th>\n",
       "      <th>zimbabwe</th>\n",
       "      <th>zip</th>\n",
       "      <th>zombie</th>\n",
       "      <th>zonepa</th>\n",
       "      <th>zxlightsoutxz</th>\n",
       "      <th>الاعلانات</th>\n",
       "      <th>لل</th>\n",
       "      <th>강남스타일</th>\n",
       "    </tr>\n",
       "  </thead>\n",
       "  <tbody>\n",
       "    <tr>\n",
       "      <th>0</th>\n",
       "      <td>0</td>\n",
       "      <td>0</td>\n",
       "      <td>0</td>\n",
       "      <td>0</td>\n",
       "      <td>0</td>\n",
       "      <td>0</td>\n",
       "      <td>0</td>\n",
       "      <td>0</td>\n",
       "      <td>0</td>\n",
       "      <td>0</td>\n",
       "      <td>...</td>\n",
       "      <td>0</td>\n",
       "      <td>0</td>\n",
       "      <td>0</td>\n",
       "      <td>0</td>\n",
       "      <td>0</td>\n",
       "      <td>0</td>\n",
       "      <td>0</td>\n",
       "      <td>0</td>\n",
       "      <td>0</td>\n",
       "      <td>0</td>\n",
       "    </tr>\n",
       "    <tr>\n",
       "      <th>1</th>\n",
       "      <td>0</td>\n",
       "      <td>0</td>\n",
       "      <td>0</td>\n",
       "      <td>0</td>\n",
       "      <td>0</td>\n",
       "      <td>0</td>\n",
       "      <td>0</td>\n",
       "      <td>0</td>\n",
       "      <td>0</td>\n",
       "      <td>0</td>\n",
       "      <td>...</td>\n",
       "      <td>0</td>\n",
       "      <td>0</td>\n",
       "      <td>0</td>\n",
       "      <td>0</td>\n",
       "      <td>0</td>\n",
       "      <td>0</td>\n",
       "      <td>0</td>\n",
       "      <td>0</td>\n",
       "      <td>0</td>\n",
       "      <td>0</td>\n",
       "    </tr>\n",
       "    <tr>\n",
       "      <th>2</th>\n",
       "      <td>0</td>\n",
       "      <td>0</td>\n",
       "      <td>0</td>\n",
       "      <td>0</td>\n",
       "      <td>0</td>\n",
       "      <td>0</td>\n",
       "      <td>0</td>\n",
       "      <td>0</td>\n",
       "      <td>0</td>\n",
       "      <td>0</td>\n",
       "      <td>...</td>\n",
       "      <td>0</td>\n",
       "      <td>0</td>\n",
       "      <td>0</td>\n",
       "      <td>0</td>\n",
       "      <td>0</td>\n",
       "      <td>0</td>\n",
       "      <td>0</td>\n",
       "      <td>0</td>\n",
       "      <td>0</td>\n",
       "      <td>0</td>\n",
       "    </tr>\n",
       "    <tr>\n",
       "      <th>3</th>\n",
       "      <td>0</td>\n",
       "      <td>0</td>\n",
       "      <td>0</td>\n",
       "      <td>0</td>\n",
       "      <td>0</td>\n",
       "      <td>0</td>\n",
       "      <td>0</td>\n",
       "      <td>0</td>\n",
       "      <td>0</td>\n",
       "      <td>0</td>\n",
       "      <td>...</td>\n",
       "      <td>0</td>\n",
       "      <td>0</td>\n",
       "      <td>0</td>\n",
       "      <td>0</td>\n",
       "      <td>0</td>\n",
       "      <td>0</td>\n",
       "      <td>0</td>\n",
       "      <td>0</td>\n",
       "      <td>0</td>\n",
       "      <td>0</td>\n",
       "    </tr>\n",
       "    <tr>\n",
       "      <th>4</th>\n",
       "      <td>0</td>\n",
       "      <td>0</td>\n",
       "      <td>0</td>\n",
       "      <td>0</td>\n",
       "      <td>0</td>\n",
       "      <td>0</td>\n",
       "      <td>0</td>\n",
       "      <td>0</td>\n",
       "      <td>0</td>\n",
       "      <td>0</td>\n",
       "      <td>...</td>\n",
       "      <td>0</td>\n",
       "      <td>0</td>\n",
       "      <td>0</td>\n",
       "      <td>0</td>\n",
       "      <td>0</td>\n",
       "      <td>0</td>\n",
       "      <td>0</td>\n",
       "      <td>0</td>\n",
       "      <td>0</td>\n",
       "      <td>0</td>\n",
       "    </tr>\n",
       "    <tr>\n",
       "      <th>...</th>\n",
       "      <td>...</td>\n",
       "      <td>...</td>\n",
       "      <td>...</td>\n",
       "      <td>...</td>\n",
       "      <td>...</td>\n",
       "      <td>...</td>\n",
       "      <td>...</td>\n",
       "      <td>...</td>\n",
       "      <td>...</td>\n",
       "      <td>...</td>\n",
       "      <td>...</td>\n",
       "      <td>...</td>\n",
       "      <td>...</td>\n",
       "      <td>...</td>\n",
       "      <td>...</td>\n",
       "      <td>...</td>\n",
       "      <td>...</td>\n",
       "      <td>...</td>\n",
       "      <td>...</td>\n",
       "      <td>...</td>\n",
       "      <td>...</td>\n",
       "    </tr>\n",
       "    <tr>\n",
       "      <th>1299</th>\n",
       "      <td>0</td>\n",
       "      <td>0</td>\n",
       "      <td>0</td>\n",
       "      <td>0</td>\n",
       "      <td>0</td>\n",
       "      <td>0</td>\n",
       "      <td>0</td>\n",
       "      <td>0</td>\n",
       "      <td>0</td>\n",
       "      <td>0</td>\n",
       "      <td>...</td>\n",
       "      <td>0</td>\n",
       "      <td>0</td>\n",
       "      <td>0</td>\n",
       "      <td>0</td>\n",
       "      <td>0</td>\n",
       "      <td>0</td>\n",
       "      <td>0</td>\n",
       "      <td>0</td>\n",
       "      <td>0</td>\n",
       "      <td>0</td>\n",
       "    </tr>\n",
       "    <tr>\n",
       "      <th>1300</th>\n",
       "      <td>0</td>\n",
       "      <td>0</td>\n",
       "      <td>0</td>\n",
       "      <td>0</td>\n",
       "      <td>0</td>\n",
       "      <td>0</td>\n",
       "      <td>0</td>\n",
       "      <td>0</td>\n",
       "      <td>0</td>\n",
       "      <td>0</td>\n",
       "      <td>...</td>\n",
       "      <td>0</td>\n",
       "      <td>0</td>\n",
       "      <td>0</td>\n",
       "      <td>0</td>\n",
       "      <td>0</td>\n",
       "      <td>0</td>\n",
       "      <td>0</td>\n",
       "      <td>0</td>\n",
       "      <td>0</td>\n",
       "      <td>0</td>\n",
       "    </tr>\n",
       "    <tr>\n",
       "      <th>1301</th>\n",
       "      <td>0</td>\n",
       "      <td>0</td>\n",
       "      <td>0</td>\n",
       "      <td>0</td>\n",
       "      <td>0</td>\n",
       "      <td>0</td>\n",
       "      <td>0</td>\n",
       "      <td>0</td>\n",
       "      <td>0</td>\n",
       "      <td>0</td>\n",
       "      <td>...</td>\n",
       "      <td>0</td>\n",
       "      <td>0</td>\n",
       "      <td>0</td>\n",
       "      <td>0</td>\n",
       "      <td>0</td>\n",
       "      <td>0</td>\n",
       "      <td>0</td>\n",
       "      <td>0</td>\n",
       "      <td>0</td>\n",
       "      <td>0</td>\n",
       "    </tr>\n",
       "    <tr>\n",
       "      <th>1302</th>\n",
       "      <td>0</td>\n",
       "      <td>0</td>\n",
       "      <td>0</td>\n",
       "      <td>0</td>\n",
       "      <td>0</td>\n",
       "      <td>0</td>\n",
       "      <td>0</td>\n",
       "      <td>0</td>\n",
       "      <td>0</td>\n",
       "      <td>0</td>\n",
       "      <td>...</td>\n",
       "      <td>0</td>\n",
       "      <td>0</td>\n",
       "      <td>0</td>\n",
       "      <td>0</td>\n",
       "      <td>0</td>\n",
       "      <td>0</td>\n",
       "      <td>0</td>\n",
       "      <td>0</td>\n",
       "      <td>0</td>\n",
       "      <td>0</td>\n",
       "    </tr>\n",
       "    <tr>\n",
       "      <th>1303</th>\n",
       "      <td>0</td>\n",
       "      <td>0</td>\n",
       "      <td>0</td>\n",
       "      <td>0</td>\n",
       "      <td>0</td>\n",
       "      <td>0</td>\n",
       "      <td>0</td>\n",
       "      <td>0</td>\n",
       "      <td>0</td>\n",
       "      <td>0</td>\n",
       "      <td>...</td>\n",
       "      <td>0</td>\n",
       "      <td>0</td>\n",
       "      <td>0</td>\n",
       "      <td>0</td>\n",
       "      <td>0</td>\n",
       "      <td>0</td>\n",
       "      <td>0</td>\n",
       "      <td>0</td>\n",
       "      <td>0</td>\n",
       "      <td>0</td>\n",
       "    </tr>\n",
       "  </tbody>\n",
       "</table>\n",
       "<p>1304 rows × 3255 columns</p>\n",
       "</div>"
      ],
      "text/plain": [
       "      00  000  02  034  04  05  053012  0687119038  0cb8qfjaa  0d878a889c  \\\n",
       "0      0    0   0    0   0   0       0           0          0           0   \n",
       "1      0    0   0    0   0   0       0           0          0           0   \n",
       "2      0    0   0    0   0   0       0           0          0           0   \n",
       "3      0    0   0    0   0   0       0           0          0           0   \n",
       "4      0    0   0    0   0   0       0           0          0           0   \n",
       "...   ..  ...  ..  ...  ..  ..     ...         ...        ...         ...   \n",
       "1299   0    0   0    0   0   0       0           0          0           0   \n",
       "1300   0    0   0    0   0   0       0           0          0           0   \n",
       "1301   0    0   0    0   0   0       0           0          0           0   \n",
       "1302   0    0   0    0   0   0       0           0          0           0   \n",
       "1303   0    0   0    0   0   0       0           0          0           0   \n",
       "\n",
       "      ...  zealous  zesty  zimbabwe  zip  zombie  zonepa  zxlightsoutxz  \\\n",
       "0     ...        0      0         0    0       0       0              0   \n",
       "1     ...        0      0         0    0       0       0              0   \n",
       "2     ...        0      0         0    0       0       0              0   \n",
       "3     ...        0      0         0    0       0       0              0   \n",
       "4     ...        0      0         0    0       0       0              0   \n",
       "...   ...      ...    ...       ...  ...     ...     ...            ...   \n",
       "1299  ...        0      0         0    0       0       0              0   \n",
       "1300  ...        0      0         0    0       0       0              0   \n",
       "1301  ...        0      0         0    0       0       0              0   \n",
       "1302  ...        0      0         0    0       0       0              0   \n",
       "1303  ...        0      0         0    0       0       0              0   \n",
       "\n",
       "      الاعلانات  لل  강남스타일  \n",
       "0             0   0              0  \n",
       "1             0   0              0  \n",
       "2             0   0              0  \n",
       "3             0   0              0  \n",
       "4             0   0              0  \n",
       "...         ...  ..            ...  \n",
       "1299          0   0              0  \n",
       "1300          0   0              0  \n",
       "1301          0   0              0  \n",
       "1302          0   0              0  \n",
       "1303          0   0              0  \n",
       "\n",
       "[1304 rows x 3255 columns]"
      ]
     },
     "execution_count": 37,
     "metadata": {},
     "output_type": "execute_result"
    }
   ],
   "source": [
    "df_bow"
   ]
  },
  {
   "cell_type": "code",
   "execution_count": 38,
   "metadata": {},
   "outputs": [
    {
     "data": {
      "text/html": [
       "<div>\n",
       "<style scoped>\n",
       "    .dataframe tbody tr th:only-of-type {\n",
       "        vertical-align: middle;\n",
       "    }\n",
       "\n",
       "    .dataframe tbody tr th {\n",
       "        vertical-align: top;\n",
       "    }\n",
       "\n",
       "    .dataframe thead th {\n",
       "        text-align: right;\n",
       "    }\n",
       "</style>\n",
       "<table border=\"1\" class=\"dataframe\">\n",
       "  <thead>\n",
       "    <tr style=\"text-align: right;\">\n",
       "      <th></th>\n",
       "      <th>00</th>\n",
       "      <th>000</th>\n",
       "      <th>02</th>\n",
       "      <th>034</th>\n",
       "      <th>04</th>\n",
       "      <th>05</th>\n",
       "      <th>053012</th>\n",
       "      <th>0687119038</th>\n",
       "      <th>0cb8qfjaa</th>\n",
       "      <th>0d878a889c</th>\n",
       "      <th>...</th>\n",
       "      <th>zealous</th>\n",
       "      <th>zesty</th>\n",
       "      <th>zimbabwe</th>\n",
       "      <th>zip</th>\n",
       "      <th>zombie</th>\n",
       "      <th>zonepa</th>\n",
       "      <th>zxlightsoutxz</th>\n",
       "      <th>الاعلانات</th>\n",
       "      <th>لل</th>\n",
       "      <th>강남스타일</th>\n",
       "    </tr>\n",
       "  </thead>\n",
       "  <tbody>\n",
       "    <tr>\n",
       "      <th>45</th>\n",
       "      <td>1</td>\n",
       "      <td>0</td>\n",
       "      <td>0</td>\n",
       "      <td>0</td>\n",
       "      <td>0</td>\n",
       "      <td>0</td>\n",
       "      <td>0</td>\n",
       "      <td>0</td>\n",
       "      <td>0</td>\n",
       "      <td>0</td>\n",
       "      <td>...</td>\n",
       "      <td>0</td>\n",
       "      <td>0</td>\n",
       "      <td>0</td>\n",
       "      <td>0</td>\n",
       "      <td>0</td>\n",
       "      <td>0</td>\n",
       "      <td>0</td>\n",
       "      <td>0</td>\n",
       "      <td>0</td>\n",
       "      <td>0</td>\n",
       "    </tr>\n",
       "    <tr>\n",
       "      <th>868</th>\n",
       "      <td>1</td>\n",
       "      <td>0</td>\n",
       "      <td>0</td>\n",
       "      <td>0</td>\n",
       "      <td>0</td>\n",
       "      <td>0</td>\n",
       "      <td>0</td>\n",
       "      <td>0</td>\n",
       "      <td>0</td>\n",
       "      <td>0</td>\n",
       "      <td>...</td>\n",
       "      <td>0</td>\n",
       "      <td>0</td>\n",
       "      <td>0</td>\n",
       "      <td>0</td>\n",
       "      <td>0</td>\n",
       "      <td>0</td>\n",
       "      <td>0</td>\n",
       "      <td>0</td>\n",
       "      <td>0</td>\n",
       "      <td>0</td>\n",
       "    </tr>\n",
       "  </tbody>\n",
       "</table>\n",
       "<p>2 rows × 3255 columns</p>\n",
       "</div>"
      ],
      "text/plain": [
       "     00  000  02  034  04  05  053012  0687119038  0cb8qfjaa  0d878a889c  ...  \\\n",
       "45    1    0   0    0   0   0       0           0          0           0  ...   \n",
       "868   1    0   0    0   0   0       0           0          0           0  ...   \n",
       "\n",
       "     zealous  zesty  zimbabwe  zip  zombie  zonepa  zxlightsoutxz  الاعلانات  \\\n",
       "45         0      0         0    0       0       0              0          0   \n",
       "868        0      0         0    0       0       0              0          0   \n",
       "\n",
       "     لل  강남스타일  \n",
       "45    0              0  \n",
       "868   0              0  \n",
       "\n",
       "[2 rows x 3255 columns]"
      ]
     },
     "execution_count": 38,
     "metadata": {},
     "output_type": "execute_result"
    }
   ],
   "source": [
    "#displaying documents that contain the token '00' once\n",
    "df_bow0= df_bow[df_bow['00']==1]\n",
    "df_bow0"
   ]
  },
  {
   "cell_type": "code",
   "execution_count": 39,
   "metadata": {},
   "outputs": [
    {
     "data": {
      "text/plain": [
       "11816"
      ]
     },
     "execution_count": 39,
     "metadata": {},
     "output_type": "execute_result"
    }
   ],
   "source": [
    "#total non zero values in the matrix\n",
    "cmt_trainbow.nnz"
   ]
  },
  {
   "cell_type": "code",
   "execution_count": 40,
   "metadata": {},
   "outputs": [
    {
     "name": "stdout",
     "output_type": "stream",
     "text": [
      "[[0 0 0 ... 0 0 0]\n",
      " [0 0 0 ... 0 0 0]\n",
      " [0 0 0 ... 0 0 0]\n",
      " ...\n",
      " [0 0 0 ... 0 0 0]\n",
      " [0 0 0 ... 0 0 0]\n",
      " [0 0 0 ... 0 0 0]]\n"
     ]
    }
   ],
   "source": [
    "print(cmt_trainbow.toarray())"
   ]
  },
  {
   "cell_type": "code",
   "execution_count": 41,
   "metadata": {},
   "outputs": [
    {
     "data": {
      "text/plain": [
       "['00',\n",
       " '000',\n",
       " '02',\n",
       " '034',\n",
       " '04',\n",
       " '05',\n",
       " '053012',\n",
       " '0687119038',\n",
       " '0cb8qfjaa',\n",
       " '0d878a889c',\n",
       " '0laviqu2b',\n",
       " '10',\n",
       " '100',\n",
       " '1000',\n",
       " '10000000',\n",
       " '1000000000',\n",
       " '100000415527985',\n",
       " '100005244783212',\n",
       " '100877300245414',\n",
       " '101721377578919894134',\n",
       " '104999962146104962510',\n",
       " '106865403',\n",
       " '107297364',\n",
       " '1073741825',\n",
       " '1073741828',\n",
       " '1073741943',\n",
       " '108k',\n",
       " '109',\n",
       " '10b35481',\n",
       " '11',\n",
       " '1111',\n",
       " '1111111111111111111',\n",
       " '111719098841907',\n",
       " '111982027348137311818',\n",
       " '112720997191206369631',\n",
       " '11cpwb',\n",
       " '11th',\n",
       " '12',\n",
       " '123',\n",
       " '124',\n",
       " '126',\n",
       " '127',\n",
       " '128gb',\n",
       " '12year',\n",
       " '13',\n",
       " '13017194',\n",
       " '1337',\n",
       " '1340488',\n",
       " '1340489',\n",
       " '1340490',\n",
       " '1340491',\n",
       " '1340492',\n",
       " '1340493',\n",
       " '1340494',\n",
       " '1340499',\n",
       " '1340500',\n",
       " '1340502',\n",
       " '1340503',\n",
       " '1340504',\n",
       " '1340517',\n",
       " '1340518',\n",
       " '1340519',\n",
       " '1340520',\n",
       " '1340521',\n",
       " '1340522',\n",
       " '1340523',\n",
       " '1340524',\n",
       " '134470083389909',\n",
       " '14',\n",
       " '1408122684',\n",
       " '1442646731',\n",
       " '1446084',\n",
       " '1461302180794905',\n",
       " '1495323920744243',\n",
       " '1496241863981208',\n",
       " '1496273723978022',\n",
       " '1498561870415874',\n",
       " '15',\n",
       " '16',\n",
       " '161620527267482',\n",
       " '16gb',\n",
       " '17',\n",
       " '171183229277',\n",
       " '17yr',\n",
       " '18',\n",
       " '19',\n",
       " '1990',\n",
       " '19924',\n",
       " '1bi',\n",
       " '1billiom',\n",
       " '1fhenqx1twqm153v2ptayiejnealahzvem',\n",
       " '1firo',\n",
       " '1hmvtx',\n",
       " '1m',\n",
       " '1min',\n",
       " '20',\n",
       " '200',\n",
       " '2004',\n",
       " '2005',\n",
       " '2009',\n",
       " '200k',\n",
       " '200mm',\n",
       " '2010',\n",
       " '2011',\n",
       " '2012',\n",
       " '2012430',\n",
       " '2013',\n",
       " '2014',\n",
       " '2015',\n",
       " '2016',\n",
       " '2017',\n",
       " '207230212795137',\n",
       " '23',\n",
       " '23active',\n",
       " '23everydayimvaping',\n",
       " '23giraffebruuh',\n",
       " '23lmfao',\n",
       " '24',\n",
       " '24398',\n",
       " '25',\n",
       " '250',\n",
       " '25th',\n",
       " '26032883',\n",
       " '27',\n",
       " '28',\n",
       " '29',\n",
       " '2asfn9shghk',\n",
       " '2b',\n",
       " '2billion',\n",
       " '2f',\n",
       " '2fen',\n",
       " '2flist_of_most_viewed_youtube_videos',\n",
       " '2fwiki',\n",
       " '2m19s',\n",
       " '2nd',\n",
       " '30',\n",
       " '300',\n",
       " '3000',\n",
       " '313327',\n",
       " '313454548839369',\n",
       " '315',\n",
       " '31st',\n",
       " '320',\n",
       " '322',\n",
       " '32gb',\n",
       " '33',\n",
       " '333',\n",
       " '33gxrf',\n",
       " '342',\n",
       " '35',\n",
       " '360',\n",
       " '365',\n",
       " '36loseweight',\n",
       " '385',\n",
       " '387',\n",
       " '3873',\n",
       " '39',\n",
       " '390',\n",
       " '3a',\n",
       " '3bie',\n",
       " '3bkeywords',\n",
       " '3bqid',\n",
       " '3bsr',\n",
       " '3d',\n",
       " '3m',\n",
       " '4000',\n",
       " '4000dollars',\n",
       " '40beuutvu2zkxk4utgpz8k',\n",
       " '41',\n",
       " '421',\n",
       " '433',\n",
       " '4436607',\n",
       " '4477063',\n",
       " '448800865296855',\n",
       " '46',\n",
       " '48051',\n",
       " '482',\n",
       " '484',\n",
       " '492',\n",
       " '4g',\n",
       " '4gb',\n",
       " '4netjobs',\n",
       " '4th',\n",
       " '50',\n",
       " '500',\n",
       " '5000',\n",
       " '500m',\n",
       " '505b0232',\n",
       " '510',\n",
       " '515',\n",
       " '521',\n",
       " '5242575',\n",
       " '5277478',\n",
       " '5287',\n",
       " '53331',\n",
       " '543627485763966',\n",
       " '55',\n",
       " '550',\n",
       " '55mm',\n",
       " '566',\n",
       " '58',\n",
       " '5800',\n",
       " '5af506e1',\n",
       " '5bgkg2iwphzohwaeuesrwnegqg_labco7rw9wfx8hao',\n",
       " '5s',\n",
       " '5th',\n",
       " '5tu9gn1l310',\n",
       " '60',\n",
       " '600',\n",
       " '616375350',\n",
       " '633807',\n",
       " '636',\n",
       " '6401116',\n",
       " '661',\n",
       " '682',\n",
       " '694',\n",
       " '6th',\n",
       " '700',\n",
       " '73231344',\n",
       " '733634264',\n",
       " '733949243353321',\n",
       " '734237113324534',\n",
       " '74',\n",
       " '750',\n",
       " '753',\n",
       " '783',\n",
       " '79',\n",
       " '7in',\n",
       " '800',\n",
       " '821',\n",
       " '857',\n",
       " '860',\n",
       " '8692160',\n",
       " '87',\n",
       " '870',\n",
       " '884',\n",
       " '8851222',\n",
       " '8bit',\n",
       " '90',\n",
       " '9107',\n",
       " '911',\n",
       " '9277547',\n",
       " '936868579660284',\n",
       " '937732262907249',\n",
       " '940',\n",
       " '950',\n",
       " '9bzkp7q19f0',\n",
       " '9gag',\n",
       " '______________________',\n",
       " '______________________________',\n",
       " '_trksid',\n",
       " 'aavpwj9',\n",
       " 'able',\n",
       " 'abominable',\n",
       " 'abomination',\n",
       " 'about',\n",
       " 'absolute',\n",
       " 'absolutely',\n",
       " 'absorbing',\n",
       " 'abuse',\n",
       " 'abusive',\n",
       " 'abusue',\n",
       " 'access',\n",
       " 'accessories',\n",
       " 'accidental',\n",
       " 'account',\n",
       " 'accounts',\n",
       " 'achieve',\n",
       " 'achieved',\n",
       " 'acidic',\n",
       " 'acoustic',\n",
       " 'acquiring',\n",
       " 'across',\n",
       " 'act',\n",
       " 'acting',\n",
       " 'activates',\n",
       " 'active',\n",
       " 'actor',\n",
       " 'actorid',\n",
       " 'actress',\n",
       " 'actually',\n",
       " 'ad',\n",
       " 'adam',\n",
       " 'adapt',\n",
       " 'add',\n",
       " 'adding',\n",
       " 'addition',\n",
       " 'adele',\n",
       " 'adf',\n",
       " 'adhoc',\n",
       " 'admirable',\n",
       " 'admire',\n",
       " 'admitting',\n",
       " 'adoult',\n",
       " 'adsense',\n",
       " 'adult',\n",
       " 'advance',\n",
       " 'advertise',\n",
       " 'advertisement',\n",
       " 'advertisements',\n",
       " 'advertisiments',\n",
       " 'advertising',\n",
       " 'advice',\n",
       " 'affiliated',\n",
       " 'affiliateid',\n",
       " 'afflicted',\n",
       " 'afford',\n",
       " 'afqjcngkm',\n",
       " 'afraid',\n",
       " 'africa',\n",
       " 'african',\n",
       " 'africans',\n",
       " 'again',\n",
       " 'age',\n",
       " 'ago',\n",
       " 'agree',\n",
       " 'agreeable',\n",
       " 'ah',\n",
       " 'ahhh',\n",
       " 'aimbwbfqbzg',\n",
       " 'ain',\n",
       " 'air',\n",
       " 'airline',\n",
       " 'airplane',\n",
       " 'aka',\n",
       " 'al',\n",
       " 'alcoholic',\n",
       " 'alert',\n",
       " 'alex',\n",
       " 'alfred',\n",
       " 'alive',\n",
       " 'all',\n",
       " 'allow',\n",
       " 'allows',\n",
       " 'almond',\n",
       " 'almost',\n",
       " 'alo',\n",
       " 'alone',\n",
       " 'already',\n",
       " 'alright',\n",
       " 'also',\n",
       " 'always',\n",
       " 'am',\n",
       " 'amazed',\n",
       " 'amazement',\n",
       " 'amazing',\n",
       " 'amazon',\n",
       " 'ambition',\n",
       " 'ambitious',\n",
       " 'america',\n",
       " 'american',\n",
       " 'amiable',\n",
       " 'amount',\n",
       " 'amp',\n",
       " 'amy',\n",
       " 'an',\n",
       " 'anaconda',\n",
       " 'analyst',\n",
       " 'ancestor',\n",
       " 'and',\n",
       " 'anderson',\n",
       " 'andrew',\n",
       " 'andrijamatf',\n",
       " 'android',\n",
       " 'angel',\n",
       " 'angels',\n",
       " 'angry',\n",
       " 'animal',\n",
       " 'animals',\n",
       " 'animation',\n",
       " 'animator',\n",
       " 'anime',\n",
       " 'annoyed',\n",
       " 'annoying',\n",
       " 'annoys',\n",
       " 'another',\n",
       " 'answer',\n",
       " 'anthem',\n",
       " 'antrobofficial',\n",
       " 'any',\n",
       " 'anybody',\n",
       " 'anymore',\n",
       " 'anyone',\n",
       " 'anything',\n",
       " 'anyway',\n",
       " 'anywhere',\n",
       " 'anywon',\n",
       " 'apocalypse',\n",
       " 'apostles',\n",
       " 'app',\n",
       " 'apparel',\n",
       " 'apparently',\n",
       " 'apple',\n",
       " 'applied',\n",
       " 'appreciate',\n",
       " 'appreciated',\n",
       " 'apps',\n",
       " 'arbitrate',\n",
       " 'are',\n",
       " 'arkglzjqup0',\n",
       " 'arm',\n",
       " 'around',\n",
       " 'arrowgance',\n",
       " 'artady',\n",
       " 'artist',\n",
       " 'artists',\n",
       " 'as',\n",
       " 'aseris',\n",
       " 'asia',\n",
       " 'asian',\n",
       " 'asinine',\n",
       " 'ask',\n",
       " 'asked',\n",
       " 'aspiring',\n",
       " 'aspx',\n",
       " 'ass',\n",
       " 'astauand',\n",
       " 'at',\n",
       " 'atlastatlas',\n",
       " 'attack',\n",
       " 'attention',\n",
       " 'auburn',\n",
       " 'audio',\n",
       " 'audiojungle',\n",
       " 'audition',\n",
       " 'auditiondetail_',\n",
       " 'auditioning',\n",
       " 'auditions',\n",
       " 'austin',\n",
       " 'authenticviews',\n",
       " 'autotune',\n",
       " 'avaaz',\n",
       " 'available',\n",
       " 'avicii',\n",
       " 'aw',\n",
       " 'award',\n",
       " 'aware',\n",
       " 'away',\n",
       " 'aways',\n",
       " 'awesom',\n",
       " 'awesome',\n",
       " 'awsome',\n",
       " 'axeljonssons',\n",
       " 'axiomatic',\n",
       " 'aye',\n",
       " 'ayyy',\n",
       " 'b00mppqhri',\n",
       " 'ba',\n",
       " 'baba',\n",
       " 'baby',\n",
       " 'back',\n",
       " 'bad',\n",
       " 'ball',\n",
       " 'ballad',\n",
       " 'band',\n",
       " 'bangers',\n",
       " 'banging',\n",
       " 'bangladesh',\n",
       " 'bar',\n",
       " 'bars',\n",
       " 'base',\n",
       " 'based',\n",
       " 'basically',\n",
       " 'basketball',\n",
       " 'bastard',\n",
       " 'bd3721315',\n",
       " 'be',\n",
       " 'beast',\n",
       " 'beat',\n",
       " 'beating',\n",
       " 'beats',\n",
       " 'beautiful',\n",
       " 'beauty',\n",
       " 'because',\n",
       " 'become',\n",
       " 'becomes',\n",
       " 'been',\n",
       " 'before',\n",
       " 'begin',\n",
       " 'beginning',\n",
       " 'behavior',\n",
       " 'behold',\n",
       " 'beibs',\n",
       " 'belarus',\n",
       " 'belgique',\n",
       " 'belgium',\n",
       " 'believe',\n",
       " 'believer',\n",
       " 'believing',\n",
       " 'bella',\n",
       " 'belle',\n",
       " 'belly',\n",
       " 'beneath',\n",
       " 'bengal',\n",
       " 'bennett',\n",
       " 'berzerk',\n",
       " 'besloor',\n",
       " 'best',\n",
       " 'bet',\n",
       " 'beta',\n",
       " 'betfair',\n",
       " 'better',\n",
       " 'beutiful',\n",
       " 'beware',\n",
       " 'bf4',\n",
       " 'bgq',\n",
       " 'bieber',\n",
       " 'big',\n",
       " 'bigboss286',\n",
       " 'bigger',\n",
       " 'bighit',\n",
       " 'bikini',\n",
       " 'bilion',\n",
       " 'billie',\n",
       " 'billion',\n",
       " 'binbox',\n",
       " 'birtgday',\n",
       " 'birthday',\n",
       " 'bisexual',\n",
       " 'bishopsgravemarker',\n",
       " 'bit',\n",
       " 'bitch',\n",
       " 'bitcoins',\n",
       " 'bite',\n",
       " 'black',\n",
       " 'blast',\n",
       " 'bleach',\n",
       " 'bless',\n",
       " 'blessing',\n",
       " 'block',\n",
       " 'blogfa',\n",
       " 'blogspot',\n",
       " 'blond',\n",
       " 'blonde',\n",
       " 'blow',\n",
       " 'blue',\n",
       " 'boaconic',\n",
       " 'bocilile',\n",
       " 'body',\n",
       " 'bomb',\n",
       " 'bonus',\n",
       " 'boob',\n",
       " 'book',\n",
       " 'bookie',\n",
       " 'bookmaker',\n",
       " 'boooobs',\n",
       " 'boost',\n",
       " 'borderland',\n",
       " 'bored',\n",
       " 'boring',\n",
       " 'born',\n",
       " 'bother',\n",
       " 'bots',\n",
       " 'bout',\n",
       " 'bowl',\n",
       " 'box',\n",
       " 'boxium',\n",
       " 'boy',\n",
       " 'boyfriend',\n",
       " 'br',\n",
       " 'brake',\n",
       " 'brand',\n",
       " 'brazil',\n",
       " 'break',\n",
       " 'breaken',\n",
       " 'breath',\n",
       " 'brew',\n",
       " 'brief',\n",
       " 'bring',\n",
       " 'bringing',\n",
       " 'brings',\n",
       " 'brinkman',\n",
       " 'british',\n",
       " 'broken',\n",
       " 'brooooo',\n",
       " 'brother',\n",
       " 'brotherhood',\n",
       " 'brought',\n",
       " 'browser',\n",
       " 'brt0u5',\n",
       " 'brutally',\n",
       " 'bs',\n",
       " 'btw',\n",
       " 'bubblews',\n",
       " 'bucket',\n",
       " 'buggti',\n",
       " 'build',\n",
       " 'bulgaria',\n",
       " 'bump',\n",
       " 'bunch',\n",
       " 'burder',\n",
       " 'burst',\n",
       " 'busyglide',\n",
       " 'but',\n",
       " 'butalabs',\n",
       " 'butt',\n",
       " 'button',\n",
       " 'butts',\n",
       " 'buy',\n",
       " 'buzz',\n",
       " 'bv',\n",
       " 'bvm',\n",
       " 'by',\n",
       " 'cabelo',\n",
       " 'cad',\n",
       " 'call',\n",
       " 'called',\n",
       " 'calls',\n",
       " 'came',\n",
       " 'camera',\n",
       " 'cameraman',\n",
       " 'camp',\n",
       " 'can',\n",
       " 'canal',\n",
       " 'cancer',\n",
       " 'cant',\n",
       " 'capitalized',\n",
       " 'car',\n",
       " 'card',\n",
       " 'cards',\n",
       " 'care',\n",
       " 'career',\n",
       " 'case',\n",
       " 'cash',\n",
       " 'catchy',\n",
       " 'cats',\n",
       " 'cause',\n",
       " 'caution',\n",
       " 'cazzy',\n",
       " 'cd',\n",
       " 'cease',\n",
       " 'celeb',\n",
       " 'celebrated',\n",
       " 'celebration',\n",
       " 'celebrity',\n",
       " 'cent',\n",
       " 'central',\n",
       " 'cents',\n",
       " 'cereal',\n",
       " 'certain',\n",
       " 'certification',\n",
       " 'cevxzvsjlk8',\n",
       " 'cge',\n",
       " 'chacking',\n",
       " 'challenge',\n",
       " 'champion',\n",
       " 'chance',\n",
       " 'chanel',\n",
       " 'chanell',\n",
       " 'change',\n",
       " 'changeable',\n",
       " 'chanicka',\n",
       " 'channel',\n",
       " 'channnnnnelll',\n",
       " 'chanson',\n",
       " 'chap',\n",
       " 'charley',\n",
       " 'charlie',\n",
       " 'charlieee',\n",
       " 'chaste',\n",
       " 'chcfcvzfzfbvzdr',\n",
       " 'cheat',\n",
       " 'cheating',\n",
       " 'check',\n",
       " 'checked',\n",
       " 'checking',\n",
       " 'cheer',\n",
       " 'cheers',\n",
       " 'cheetos',\n",
       " 'chesture',\n",
       " 'chick',\n",
       " 'children',\n",
       " 'chillpal',\n",
       " 'chills',\n",
       " 'chillstep',\n",
       " 'china',\n",
       " 'chinese',\n",
       " 'ching',\n",
       " 'chiptunes',\n",
       " 'choice',\n",
       " 'chooses',\n",
       " 'chorenn',\n",
       " 'chorus',\n",
       " 'chose',\n",
       " 'chrck',\n",
       " 'christ',\n",
       " 'christians',\n",
       " 'christmas',\n",
       " 'chubby',\n",
       " 'chubbz',\n",
       " 'chuck',\n",
       " 'cid',\n",
       " 'cking',\n",
       " 'claire',\n",
       " 'clap',\n",
       " 'class',\n",
       " 'claster',\n",
       " 'clean',\n",
       " 'cleaning',\n",
       " 'cleanse',\n",
       " 'clear',\n",
       " 'click',\n",
       " 'clicked',\n",
       " 'clip',\n",
       " 'close',\n",
       " 'closer',\n",
       " 'clothing',\n",
       " 'co',\n",
       " 'coby',\n",
       " 'cock',\n",
       " 'code',\n",
       " 'codes',\n",
       " 'codytolleson',\n",
       " 'coffee',\n",
       " 'collaboration',\n",
       " 'collaborator',\n",
       " 'colorful',\n",
       " 'colour',\n",
       " 'columbus',\n",
       " 'column',\n",
       " 'com',\n",
       " 'come',\n",
       " 'comedy',\n",
       " 'comeing',\n",
       " 'comentars',\n",
       " 'comfort',\n",
       " 'comforter',\n",
       " 'comic',\n",
       " 'coming',\n",
       " 'comment',\n",
       " 'comment_id',\n",
       " 'commenter',\n",
       " 'commenting',\n",
       " 'comments',\n",
       " 'commit',\n",
       " 'commment',\n",
       " 'community',\n",
       " 'companion',\n",
       " 'company',\n",
       " 'compared',\n",
       " 'comparison',\n",
       " 'competition',\n",
       " 'complaining',\n",
       " 'complete',\n",
       " 'completely',\n",
       " 'composer',\n",
       " 'comprehend',\n",
       " 'computer',\n",
       " 'conceived',\n",
       " 'concert',\n",
       " 'conciliate',\n",
       " 'conference',\n",
       " 'confessors',\n",
       " 'confirmed',\n",
       " 'congrasulation',\n",
       " 'congratulations',\n",
       " 'conhece',\n",
       " 'connected',\n",
       " 'conqueror',\n",
       " 'conscious',\n",
       " 'consolidating',\n",
       " 'constructive',\n",
       " 'consumers',\n",
       " 'contact',\n",
       " 'content',\n",
       " 'contest',\n",
       " 'conveying',\n",
       " 'convinced',\n",
       " 'cook',\n",
       " 'cool',\n",
       " 'cooooooooooooolllllllllll',\n",
       " 'copied',\n",
       " 'copy',\n",
       " 'core',\n",
       " 'cost',\n",
       " 'could',\n",
       " 'counsel',\n",
       " 'count',\n",
       " 'countless',\n",
       " 'country',\n",
       " 'counts',\n",
       " 'couple',\n",
       " 'course',\n",
       " 'court',\n",
       " 'cover',\n",
       " 'covers',\n",
       " 'craft',\n",
       " 'crank',\n",
       " 'crap',\n",
       " 'crash',\n",
       " 'crashed',\n",
       " 'crazy',\n",
       " 'crdits',\n",
       " 'creating',\n",
       " 'creativity',\n",
       " 'creator',\n",
       " 'crescendo',\n",
       " 'crestboot',\n",
       " 'crew',\n",
       " 'cri',\n",
       " 'crime',\n",
       " 'criminal',\n",
       " 'criticism',\n",
       " 'critiquing',\n",
       " 'crop',\n",
       " 'cross',\n",
       " 'crush',\n",
       " 'cruz',\n",
       " 'cry',\n",
       " 'csgo',\n",
       " 'cubik',\n",
       " 'cudi',\n",
       " 'cup',\n",
       " 'curly',\n",
       " 'current',\n",
       " 'currently',\n",
       " 'curse',\n",
       " 'cursed',\n",
       " 'curti',\n",
       " 'customer',\n",
       " 'cute',\n",
       " 'cutie',\n",
       " 'cuz',\n",
       " 'cvhmklt',\n",
       " 'cxpzpgb',\n",
       " 'cyber',\n",
       " 'cypher',\n",
       " 'cyrine_ghorbel',\n",
       " 'cyrus',\n",
       " 'czfcxsn0jnq',\n",
       " 'd90',\n",
       " 'da',\n",
       " 'daaaaaaaaaaannng',\n",
       " 'daconnormc',\n",
       " 'dad',\n",
       " 'dafuq',\n",
       " 'daily',\n",
       " 'dakota',\n",
       " 'damn',\n",
       " 'damnnnnnnnn',\n",
       " 'dance',\n",
       " 'danced',\n",
       " 'dancer',\n",
       " 'dancing',\n",
       " 'daneja',\n",
       " 'dang',\n",
       " 'daniel',\n",
       " 'danke',\n",
       " 'dante',\n",
       " 'dat',\n",
       " 'dated',\n",
       " 'datpiff',\n",
       " 'daughter',\n",
       " 'dawn',\n",
       " 'day',\n",
       " 'days',\n",
       " 'dddd',\n",
       " 'de',\n",
       " 'dealing',\n",
       " 'deals',\n",
       " 'dear',\n",
       " 'death',\n",
       " 'deathly',\n",
       " 'deazy99',\n",
       " 'december',\n",
       " 'decent',\n",
       " 'decided',\n",
       " 'decio',\n",
       " 'deciocabelo',\n",
       " 'dedicated',\n",
       " 'dedication',\n",
       " 'deep',\n",
       " 'definitely',\n",
       " 'definitily',\n",
       " 'definitley',\n",
       " 'defuse',\n",
       " 'del',\n",
       " 'delete',\n",
       " 'delicate',\n",
       " 'delicious',\n",
       " 'delightful',\n",
       " 'dem',\n",
       " 'demiilovatofas',\n",
       " 'demo',\n",
       " 'democracy',\n",
       " 'demonstrating',\n",
       " 'denis',\n",
       " 'describe',\n",
       " 'deserve',\n",
       " 'design',\n",
       " 'designs',\n",
       " 'desire',\n",
       " 'destinyforever_',\n",
       " 'detail',\n",
       " 'detail_the',\n",
       " 'details',\n",
       " 'devil',\n",
       " 'dhaka',\n",
       " 'dhg',\n",
       " 'diagnosed',\n",
       " 'dick',\n",
       " 'dickwad',\n",
       " 'did',\n",
       " 'diddle',\n",
       " 'didn',\n",
       " 'didnt',\n",
       " 'die',\n",
       " 'difference',\n",
       " 'different',\n",
       " 'difficult',\n",
       " 'digital',\n",
       " 'dinero',\n",
       " 'ding',\n",
       " 'dis',\n",
       " 'disappointed',\n",
       " 'disclose',\n",
       " 'discrimination',\n",
       " 'discus',\n",
       " 'disguise',\n",
       " 'dislike',\n",
       " 'disliked',\n",
       " 'dislikes',\n",
       " 'dislikesssssssssssssssssssssssssssssssss',\n",
       " 'disorder',\n",
       " 'disposable',\n",
       " 'distribution',\n",
       " 'divertenti',\n",
       " 'divine',\n",
       " 'divorce',\n",
       " 'dj',\n",
       " 'dna',\n",
       " 'dnckm',\n",
       " 'do',\n",
       " 'doe',\n",
       " 'does',\n",
       " 'doesn',\n",
       " 'doesnt',\n",
       " 'dog',\n",
       " 'doing',\n",
       " 'dolacz',\n",
       " 'dollar',\n",
       " 'domestic',\n",
       " 'dominate',\n",
       " 'don',\n",
       " 'donate',\n",
       " 'donating',\n",
       " 'done',\n",
       " 'dong',\n",
       " 'dont',\n",
       " 'dot',\n",
       " 'doubt',\n",
       " 'download',\n",
       " 'downloading',\n",
       " 'dp',\n",
       " 'dragons',\n",
       " 'drake',\n",
       " 'drama',\n",
       " 'dreaddis',\n",
       " 'dream',\n",
       " 'dreamer',\n",
       " 'dreaming',\n",
       " 'dreams',\n",
       " 'drew',\n",
       " 'dribbleproshot',\n",
       " 'drink',\n",
       " 'drirathiel',\n",
       " 'drive',\n",
       " 'driveshaft',\n",
       " 'driving',\n",
       " 'drone',\n",
       " 'drones',\n",
       " 'drop',\n",
       " 'drug',\n",
       " 'drunk',\n",
       " 'dtqcftr1fac',\n",
       " 'du',\n",
       " 'dubstep',\n",
       " 'dude',\n",
       " 'dudes',\n",
       " 'due',\n",
       " 'duel',\n",
       " 'duh',\n",
       " 'dumb',\n",
       " 'dundundunnn',\n",
       " 'dunno',\n",
       " 'duo',\n",
       " 'duty',\n",
       " 'duzafizz',\n",
       " 'dysfunctional',\n",
       " 'eager',\n",
       " 'ear',\n",
       " 'earn',\n",
       " 'earned',\n",
       " 'earns',\n",
       " 'earth',\n",
       " 'earthquake',\n",
       " 'easily',\n",
       " 'easy',\n",
       " 'easypromosapp',\n",
       " 'eat',\n",
       " ...]"
      ]
     },
     "execution_count": 41,
     "metadata": {},
     "output_type": "execute_result"
    }
   ],
   "source": [
    "#listing all the tokens (words in our case) in our bag of words\n",
    "bow_transformer.get_feature_names()"
   ]
  },
  {
   "cell_type": "code",
   "execution_count": 42,
   "metadata": {},
   "outputs": [],
   "source": [
    "tfidf_transformer = TfidfTransformer().fit(cmt_trainbow)"
   ]
  },
  {
   "cell_type": "code",
   "execution_count": 43,
   "metadata": {},
   "outputs": [],
   "source": [
    "messages_traintfidf = tfidf_transformer.transform(cmt_trainbow)\n",
    "messages_testtfidf = tfidf_transformer.transform(cmt_testbow)"
   ]
  },
  {
   "cell_type": "code",
   "execution_count": 44,
   "metadata": {},
   "outputs": [
    {
     "name": "stdout",
     "output_type": "stream",
     "text": [
      "  (0, 2748)\t0.4414084522756959\n",
      "  (0, 2177)\t0.26530128856845414\n",
      "  (0, 1838)\t0.257161806480071\n",
      "  (0, 1748)\t0.46011669993236193\n",
      "  (0, 1684)\t0.2825802263393381\n",
      "  (0, 375)\t0.4414084522756959\n",
      "  (0, 265)\t0.42689720802124587\n",
      "  (1, 3194)\t0.37159911040826166\n",
      "  (1, 2679)\t0.3928942488810015\n",
      "  (1, 2656)\t0.2945866861497052\n",
      "  (1, 2486)\t0.3447704088110368\n",
      "  (1, 2172)\t0.32709879483539045\n",
      "  (1, 1623)\t0.3928942488810015\n",
      "  (1, 1027)\t0.32008568954091854\n",
      "  (1, 843)\t0.37159911040826166\n",
      "  (2, 3228)\t0.10826448837379686\n",
      "  (2, 3216)\t0.08270207836415819\n",
      "  (2, 3190)\t0.13794152736100182\n",
      "  (2, 3126)\t0.11237911735136316\n",
      "  (2, 3087)\t0.08464486106284608\n",
      "  (2, 3028)\t0.04997305557211327\n",
      "  (2, 3022)\t0.12104569337861619\n",
      "  (2, 2890)\t0.10342665372028399\n",
      "  (2, 2846)\t0.08224676187081664\n",
      "  (2, 2741)\t0.12000265836543576\n",
      "  :\t:\n",
      "  (1299, 2741)\t0.3157060638360234\n",
      "  (1299, 2229)\t0.31713287765324777\n",
      "  (1299, 1782)\t0.4732831045328432\n",
      "  (1299, 1317)\t0.4427134400939893\n",
      "  (1299, 1087)\t0.45679922967363684\n",
      "  (1299, 652)\t0.3193132298823214\n",
      "  (1300, 3241)\t0.3935741149391749\n",
      "  (1300, 3235)\t0.162702835695681\n",
      "  (1300, 3216)\t0.23596517972879902\n",
      "  (1300, 3087)\t0.24150831815696897\n",
      "  (1300, 3058)\t0.3276648081300909\n",
      "  (1300, 3028)\t0.14258288634232677\n",
      "  (1300, 2543)\t0.24937535540171094\n",
      "  (1300, 2336)\t0.5094605210322258\n",
      "  (1300, 2237)\t0.30889972734277704\n",
      "  (1300, 1032)\t0.23866377919418563\n",
      "  (1300, 404)\t0.32063956732519683\n",
      "  (1301, 440)\t1.0\n",
      "  (1302, 3028)\t0.31808871455324683\n",
      "  (1302, 1983)\t0.4526355666208609\n",
      "  (1302, 1818)\t0.7490814238202682\n",
      "  (1302, 1743)\t0.36444153713740524\n",
      "  (1303, 2852)\t0.5782544819265909\n",
      "  (1303, 2568)\t0.5264776189866589\n",
      "  (1303, 1722)\t0.6232520123015635\n"
     ]
    }
   ],
   "source": [
    "print(messages_traintfidf)"
   ]
  },
  {
   "cell_type": "code",
   "execution_count": 45,
   "metadata": {},
   "outputs": [],
   "source": [
    "dense_test=messages_testtfidf.toarray()\n",
    "dense_train=messages_traintfidf.toarray()"
   ]
  },
  {
   "cell_type": "code",
   "execution_count": 48,
   "metadata": {},
   "outputs": [],
   "source": [
    "#creating a decision tree classifier to train and predict the class of our data\n",
    "dt_clf = DecisionTreeClassifier(criterion='gini', max_leaf_nodes=45, random_state=42)"
   ]
  },
  {
   "cell_type": "code",
   "execution_count": 49,
   "metadata": {},
   "outputs": [
    {
     "data": {
      "text/plain": [
       "DecisionTreeClassifier(max_leaf_nodes=45, random_state=42)"
      ]
     },
     "execution_count": 49,
     "metadata": {},
     "output_type": "execute_result"
    }
   ],
   "source": [
    "dt_clf.fit(dense_train, Y_train)"
   ]
  },
  {
   "cell_type": "code",
   "execution_count": 52,
   "metadata": {},
   "outputs": [
    {
     "data": {
      "image/png": "[encoded data removed]",
      "text/plain": [
       "<Figure size 2520x2160 with 1 Axes>"
      ]
     },
     "metadata": {
      "needs_background": "light"
     },
     "output_type": "display_data"
    }
   ],
   "source": [
    "#plotting the structure of the decision tree to be used to classify our testing data\n",
    "plt.figure(figsize=(35,30))\n",
    "tree.plot_tree(dt_clf, filled=True, fontsize=10, class_names = True)\n",
    "plt.show()"
   ]
  },
  {
   "cell_type": "code",
   "execution_count": 53,
   "metadata": {},
   "outputs": [],
   "source": [
    "dt_prediction=dt_clf.predict(dense_test)"
   ]
  },
  {
   "cell_type": "code",
   "execution_count": 54,
   "metadata": {},
   "outputs": [
    {
     "name": "stdout",
     "output_type": "stream",
     "text": [
      "              precision    recall  f1-score   support\n",
      "\n",
      "         Ham       0.95      0.96      0.96       312\n",
      "        Spam       0.97      0.96      0.96       340\n",
      "\n",
      "    accuracy                           0.96       652\n",
      "   macro avg       0.96      0.96      0.96       652\n",
      "weighted avg       0.96      0.96      0.96       652\n",
      "\n"
     ]
    }
   ],
   "source": [
    "print(classification_report(Y_test,dt_prediction,target_names=['Ham', 'Spam']))"
   ]
  },
  {
   "cell_type": "code",
   "execution_count": 55,
   "metadata": {},
   "outputs": [],
   "source": [
    "def accuracy(confusion_matrix):\n",
    "   diagonal_sum = confusion_matrix.trace()\n",
    "   sum_of_all_elements = confusion_matrix.sum()\n",
    "   return diagonal_sum / sum_of_all_elements"
   ]
  },
  {
   "cell_type": "code",
   "execution_count": 56,
   "metadata": {},
   "outputs": [],
   "source": [
    "#creating a confusion matrix from the results\n",
    "dt_cm= confusion_matrix(Y_test,dt_prediction)"
   ]
  },
  {
   "cell_type": "code",
   "execution_count": 57,
   "metadata": {},
   "outputs": [
    {
     "data": {
      "text/plain": [
       "96.0122699386503"
      ]
     },
     "execution_count": 57,
     "metadata": {},
     "output_type": "execute_result"
    }
   ],
   "source": [
    "accuracy(dt_cm)*100"
   ]
  },
  {
   "cell_type": "code",
   "execution_count": 58,
   "metadata": {},
   "outputs": [
    {
     "name": "stdout",
     "output_type": "stream",
     "text": [
      "[[301  11]\n",
      " [ 15 325]]\n"
     ]
    }
   ],
   "source": [
    "print(dt_cm)"
   ]
  },
  {
   "cell_type": "code",
   "execution_count": 59,
   "metadata": {},
   "outputs": [],
   "source": [
    "dt_cmd= ConfusionMatrixDisplay(dt_cm)"
   ]
  },
  {
   "cell_type": "code",
   "execution_count": 60,
   "metadata": {},
   "outputs": [
    {
     "data": {
      "text/plain": [
       "<sklearn.metrics._plot.confusion_matrix.ConfusionMatrixDisplay at 0x25fbfca4400>"
      ]
     },
     "execution_count": 60,
     "metadata": {},
     "output_type": "execute_result"
    },
    {
     "data": {
      "image/png": "[encoded data removed]",
      "text/plain": [
       "<Figure size 432x288 with 2 Axes>"
      ]
     },
     "metadata": {
      "needs_background": "light"
     },
     "output_type": "display_data"
    }
   ],
   "source": [
    "dt_cmd.plot(cmap= 'Reds')"
   ]
  },
  {
   "cell_type": "markdown",
   "metadata": {},
   "source": [
    "# Using Pipeline for Data Normalization and Classification"
   ]
  },
  {
   "cell_type": "markdown",
   "metadata": {},
   "source": [
    "### Creating custom transformer to convert sparse matrix into dense array"
   ]
  },
  {
   "cell_type": "code",
   "execution_count": 72,
   "metadata": {},
   "outputs": [],
   "source": [
    "from sklearn.base import BaseEstimator,TransformerMixin"
   ]
  },
  {
   "cell_type": "code",
   "execution_count": 73,
   "metadata": {},
   "outputs": [],
   "source": [
    "class DenseTransformer(BaseEstimator, TransformerMixin):\n",
    "    \n",
    "    def __init__(self):\n",
    "        return None\n",
    "    \n",
    "    def fit(self, X, y=None, **fit_params):\n",
    "        return self\n",
    "\n",
    "    def transform(self, X, y=None, **fit_params):\n",
    "        return X.todense()"
   ]
  },
  {
   "cell_type": "markdown",
   "metadata": {},
   "source": [
    "### Naive Bayes Classification Model"
   ]
  },
  {
   "cell_type": "code",
   "execution_count": 74,
   "metadata": {},
   "outputs": [],
   "source": [
    "from sklearn.pipeline import Pipeline"
   ]
  },
  {
   "cell_type": "code",
   "execution_count": 75,
   "metadata": {},
   "outputs": [],
   "source": [
    "#creating a pipeline with transformers and MultinomialNB as the estimator\n",
    "pipeline_nb = Pipeline([\n",
    "    ('bow', CountVectorizer(analyzer='word', strip_accents='unicode')),  # strings to token integer counts\n",
    "    ('tfidf', TfidfTransformer()),# integer counts to weighted TF-IDF scores\n",
    "    ('todense',DenseTransformer()),\n",
    "    ('classifier', MultinomialNB()),  # train on TF-IDF vectors w/ Naive Bayes classifier\n",
    "])"
   ]
  },
  {
   "cell_type": "code",
   "execution_count": 76,
   "metadata": {},
   "outputs": [
    {
     "data": {
      "text/plain": [
       "Pipeline(steps=[('bow', CountVectorizer(strip_accents='unicode')),\n",
       "                ('tfidf', TfidfTransformer()), ('todense', DenseTransformer()),\n",
       "                ('classifier', MultinomialNB())])"
      ]
     },
     "execution_count": 76,
     "metadata": {},
     "output_type": "execute_result"
    }
   ],
   "source": [
    "pipeline_nb.fit(X_train, Y_train)"
   ]
  },
  {
   "cell_type": "code",
   "execution_count": 77,
   "metadata": {},
   "outputs": [],
   "source": [
    "nb_prediction = pipeline_nb.predict(X_test)"
   ]
  },
  {
   "cell_type": "code",
   "execution_count": 78,
   "metadata": {},
   "outputs": [
    {
     "name": "stdout",
     "output_type": "stream",
     "text": [
      "              precision    recall  f1-score   support\n",
      "\n",
      "         Ham       0.94      0.88      0.91       312\n",
      "        Spam       0.90      0.95      0.92       340\n",
      "\n",
      "    accuracy                           0.92       652\n",
      "   macro avg       0.92      0.92      0.92       652\n",
      "weighted avg       0.92      0.92      0.92       652\n",
      "\n"
     ]
    }
   ],
   "source": [
    "print(classification_report(Y_test,nb_prediction, target_names=['Ham', 'Spam']))"
   ]
  },
  {
   "cell_type": "code",
   "execution_count": 79,
   "metadata": {},
   "outputs": [],
   "source": [
    "nb_cm = confusion_matrix(Y_test,nb_prediction)"
   ]
  },
  {
   "cell_type": "code",
   "execution_count": 80,
   "metadata": {},
   "outputs": [
    {
     "data": {
      "text/plain": [
       "91.71779141104295"
      ]
     },
     "execution_count": 80,
     "metadata": {},
     "output_type": "execute_result"
    }
   ],
   "source": [
    "accuracy(nb_cm)*100"
   ]
  },
  {
   "cell_type": "code",
   "execution_count": 81,
   "metadata": {},
   "outputs": [
    {
     "name": "stdout",
     "output_type": "stream",
     "text": [
      "[[274  38]\n",
      " [ 16 324]]\n"
     ]
    }
   ],
   "source": [
    "print(nb_cm)"
   ]
  },
  {
   "cell_type": "code",
   "execution_count": 82,
   "metadata": {},
   "outputs": [],
   "source": [
    "nb_cmd= ConfusionMatrixDisplay(nb_cm)"
   ]
  },
  {
   "cell_type": "code",
   "execution_count": 83,
   "metadata": {},
   "outputs": [
    {
     "data": {
      "text/plain": [
       "<sklearn.metrics._plot.confusion_matrix.ConfusionMatrixDisplay at 0x25fbfd9f2e0>"
      ]
     },
     "execution_count": 83,
     "metadata": {},
     "output_type": "execute_result"
    },
    {
     "data": {
      "image/png": "[encoded data removed]",
      "text/plain": [
       "<Figure size 432x288 with 2 Axes>"
      ]
     },
     "metadata": {
      "needs_background": "light"
     },
     "output_type": "display_data"
    }
   ],
   "source": [
    "nb_cmd.plot(cmap='YlOrBr')"
   ]
  },
  {
   "cell_type": "markdown",
   "metadata": {},
   "source": [
    "### Support Vector Machine(SVM) Classification Model"
   ]
  },
  {
   "cell_type": "code",
   "execution_count": 90,
   "metadata": {},
   "outputs": [],
   "source": [
    "#creating a pipeline with transformers and MultinomialNB as the estimator\n",
    "pipeline_svm = Pipeline([\n",
    "    ('bow', CountVectorizer(analyzer='word', strip_accents='unicode')),  # strings to token integer counts\n",
    "    ('tfidf', TfidfTransformer()),# integer counts to weighted TF-IDF scores\n",
    "    ('todense',DenseTransformer()),\n",
    "    ('scaler', StandardScaler()), #scaling the values\n",
    "    ('classifier', SVC(kernel='linear', verbose=True, random_state=101))  # train on TF-IDF vectors w/ Naive Bayes classifier\n",
    "])"
   ]
  },
  {
   "cell_type": "code",
   "execution_count": 91,
   "metadata": {},
   "outputs": [
    {
     "name": "stdout",
     "output_type": "stream",
     "text": [
      "[LibSVM]"
     ]
    },
    {
     "data": {
      "text/plain": [
       "Pipeline(steps=[('bow', CountVectorizer(strip_accents='unicode')),\n",
       "                ('tfidf', TfidfTransformer()), ('todense', DenseTransformer()),\n",
       "                ('scaler', StandardScaler()),\n",
       "                ('classifier',\n",
       "                 SVC(kernel='linear', random_state=101, verbose=True))])"
      ]
     },
     "execution_count": 91,
     "metadata": {},
     "output_type": "execute_result"
    }
   ],
   "source": [
    "pipeline_svm.fit(X_train, Y_train.values.ravel())"
   ]
  },
  {
   "cell_type": "code",
   "execution_count": 92,
   "metadata": {},
   "outputs": [],
   "source": [
    "svm_prediction = pipeline_svm.predict(X_test)"
   ]
  },
  {
   "cell_type": "code",
   "execution_count": 93,
   "metadata": {},
   "outputs": [
    {
     "name": "stdout",
     "output_type": "stream",
     "text": [
      "              precision    recall  f1-score   support\n",
      "\n",
      "         Ham       0.87      0.96      0.91       312\n",
      "        Spam       0.96      0.87      0.91       340\n",
      "\n",
      "    accuracy                           0.91       652\n",
      "   macro avg       0.92      0.92      0.91       652\n",
      "weighted avg       0.92      0.91      0.91       652\n",
      "\n"
     ]
    }
   ],
   "source": [
    "print(classification_report(Y_test,svm_prediction, target_names=['Ham', 'Spam']))"
   ]
  },
  {
   "cell_type": "code",
   "execution_count": 94,
   "metadata": {},
   "outputs": [],
   "source": [
    "svm_cm = confusion_matrix(Y_test,svm_prediction)"
   ]
  },
  {
   "cell_type": "code",
   "execution_count": 95,
   "metadata": {},
   "outputs": [
    {
     "data": {
      "text/plain": [
       "91.41104294478528"
      ]
     },
     "execution_count": 95,
     "metadata": {},
     "output_type": "execute_result"
    }
   ],
   "source": [
    "accuracy(svm_cm)*100"
   ]
  },
  {
   "cell_type": "code",
   "execution_count": 96,
   "metadata": {},
   "outputs": [
    {
     "name": "stdout",
     "output_type": "stream",
     "text": [
      "[[299  13]\n",
      " [ 43 297]]\n"
     ]
    }
   ],
   "source": [
    "print(svm_cm)"
   ]
  },
  {
   "cell_type": "code",
   "execution_count": 97,
   "metadata": {},
   "outputs": [],
   "source": [
    "linsvm_cmd= ConfusionMatrixDisplay(svm_cm)"
   ]
  },
  {
   "cell_type": "code",
   "execution_count": 98,
   "metadata": {},
   "outputs": [
    {
     "data": {
      "text/plain": [
       "<sklearn.metrics._plot.confusion_matrix.ConfusionMatrixDisplay at 0x25fbfed9e50>"
      ]
     },
     "execution_count": 98,
     "metadata": {},
     "output_type": "execute_result"
    },
    {
     "data": {
      "image/png": "[encoded data removed]",
      "text/plain": [
       "<Figure size 432x288 with 2 Axes>"
      ]
     },
     "metadata": {
      "needs_background": "light"
     },
     "output_type": "display_data"
    }
   ],
   "source": [
    "linsvm_cmd.plot(cmap='Oranges')"
   ]
  },
  {
   "cell_type": "markdown",
   "metadata": {},
   "source": [
    "### Random Forest Classification Model"
   ]
  },
  {
   "cell_type": "code",
   "execution_count": 99,
   "metadata": {},
   "outputs": [],
   "source": [
    "pipeline_rf = Pipeline([\n",
    "    ('bow', CountVectorizer(analyzer='word')),  # strings to token integer counts\n",
    "    ('tfidf', TfidfTransformer()),  # integer counts to weighted TF-IDF scores\n",
    "    ('todense',DenseTransformer()),\n",
    "    ('RandomForest', RandomForestClassifier(n_estimators=200,criterion='gini', max_leaf_nodes=55, random_state=42)),  \n",
    "])"
   ]
  },
  {
   "cell_type": "code",
   "execution_count": 100,
   "metadata": {},
   "outputs": [
    {
     "data": {
      "text/plain": [
       "Pipeline(steps=[('bow', CountVectorizer()), ('tfidf', TfidfTransformer()),\n",
       "                ('todense', DenseTransformer()),\n",
       "                ('RandomForest',\n",
       "                 RandomForestClassifier(max_leaf_nodes=55, n_estimators=200,\n",
       "                                        random_state=42))])"
      ]
     },
     "execution_count": 100,
     "metadata": {},
     "output_type": "execute_result"
    }
   ],
   "source": [
    "pipeline_rf.fit(X_train, Y_train)"
   ]
  },
  {
   "cell_type": "code",
   "execution_count": 101,
   "metadata": {},
   "outputs": [],
   "source": [
    "rf_prediction=pipeline_rf.predict(X_test)"
   ]
  },
  {
   "cell_type": "code",
   "execution_count": 102,
   "metadata": {},
   "outputs": [
    {
     "name": "stdout",
     "output_type": "stream",
     "text": [
      "              precision    recall  f1-score   support\n",
      "\n",
      "         Ham       0.93      0.97      0.95       312\n",
      "        Spam       0.98      0.93      0.95       340\n",
      "\n",
      "    accuracy                           0.95       652\n",
      "   macro avg       0.95      0.95      0.95       652\n",
      "weighted avg       0.95      0.95      0.95       652\n",
      "\n"
     ]
    }
   ],
   "source": [
    "print(classification_report(Y_test,rf_prediction,target_names=['Ham', 'Spam']))"
   ]
  },
  {
   "cell_type": "code",
   "execution_count": 103,
   "metadata": {},
   "outputs": [],
   "source": [
    "rf_cm= confusion_matrix(Y_test,rf_prediction)"
   ]
  },
  {
   "cell_type": "code",
   "execution_count": 104,
   "metadata": {},
   "outputs": [
    {
     "name": "stdout",
     "output_type": "stream",
     "text": [
      "[[304   8]\n",
      " [ 24 316]]\n"
     ]
    }
   ],
   "source": [
    "print(rf_cm)"
   ]
  },
  {
   "cell_type": "code",
   "execution_count": 105,
   "metadata": {},
   "outputs": [
    {
     "data": {
      "text/plain": [
       "95.0920245398773"
      ]
     },
     "execution_count": 105,
     "metadata": {},
     "output_type": "execute_result"
    }
   ],
   "source": [
    "accuracy(rf_cm)*100"
   ]
  },
  {
   "cell_type": "code",
   "execution_count": 106,
   "metadata": {},
   "outputs": [],
   "source": [
    "rf_cmd= ConfusionMatrixDisplay(rf_cm)"
   ]
  },
  {
   "cell_type": "code",
   "execution_count": 107,
   "metadata": {},
   "outputs": [
    {
     "data": {
      "text/plain": [
       "<sklearn.metrics._plot.confusion_matrix.ConfusionMatrixDisplay at 0x25fc0efbf10>"
      ]
     },
     "execution_count": 107,
     "metadata": {},
     "output_type": "execute_result"
    },
    {
     "data": {
      "image/png": "[encoded data removed]",
      "text/plain": [
       "<Figure size 432x288 with 2 Axes>"
      ]
     },
     "metadata": {
      "needs_background": "light"
     },
     "output_type": "display_data"
    }
   ],
   "source": [
    "rf_cmd.plot(cmap='YlOrBr')"
   ]
  },
  {
   "cell_type": "markdown",
   "metadata": {},
   "source": [
    "## Artificial Neural Network"
   ]
  },
  {
   "cell_type": "code",
   "execution_count": 108,
   "metadata": {},
   "outputs": [],
   "source": [
    "from tensorflow.keras.layers import Dense\n",
    "from tensorflow.keras.models import Sequential\n",
    "from tensorflow.keras.callbacks import EarlyStopping"
   ]
  },
  {
   "cell_type": "code",
   "execution_count": 109,
   "metadata": {},
   "outputs": [],
   "source": [
    "scaler_ann=MinMaxScaler()"
   ]
  },
  {
   "cell_type": "code",
   "execution_count": 124,
   "metadata": {},
   "outputs": [],
   "source": [
    "model = Sequential()\n",
    "model.add(Dense(1028,activation='relu'))\n",
    "#model.add(Dense(512, activation='relu'))\n",
    "model.add(Dense(256, activation='relu'))\n",
    "model.add(Dense(128, activation='relu'))\n",
    "#model.add(Dense(64, activation='relu'))\n",
    "model.add(Dense(32, activation='relu'))\n",
    "model.add(Dense(16, activation='relu'))\n",
    "model.add(Dense(8, activation='relu'))\n",
    "model.add(Dense(4, activation='relu'))\n",
    "model.add(Dense(2, activation='relu'))\n",
    "model.add(Dense(1, activation='sigmoid'))\n",
    "\n",
    "model.compile(loss='binary_crossentropy', optimizer='adam', metrics=['accuracy'])"
   ]
  },
  {
   "cell_type": "code",
   "execution_count": 125,
   "metadata": {},
   "outputs": [
    {
     "data": {
      "text/plain": [
       "0.0"
      ]
     },
     "execution_count": 125,
     "metadata": {},
     "output_type": "execute_result"
    }
   ],
   "source": [
    "dense_train.min()"
   ]
  },
  {
   "cell_type": "code",
   "execution_count": 116,
   "metadata": {},
   "outputs": [
    {
     "data": {
      "text/plain": [
       "array([[0., 0., 0., ..., 0., 0., 0.],\n",
       "       [0., 0., 0., ..., 0., 0., 0.],\n",
       "       [0., 0., 0., ..., 0., 0., 0.],\n",
       "       ...,\n",
       "       [0., 0., 0., ..., 0., 0., 0.],\n",
       "       [0., 0., 0., ..., 0., 0., 0.],\n",
       "       [0., 0., 0., ..., 0., 0., 0.]])"
      ]
     },
     "execution_count": 116,
     "metadata": {},
     "output_type": "execute_result"
    }
   ],
   "source": [
    "# X_train_ann=scaler_ann.fit_transform(dense_train)\n",
    "# Y_train=Y_train.astype(float)\n",
    "# X_train_ann"
   ]
  },
  {
   "cell_type": "code",
   "execution_count": 117,
   "metadata": {},
   "outputs": [],
   "source": [
    "# X_test_ann=scaler_ann.fit_transform(dense_test)\n",
    "# Y_test=Y_test.astype(float)"
   ]
  },
  {
   "cell_type": "code",
   "execution_count": 118,
   "metadata": {},
   "outputs": [],
   "source": [
    "earlystop=EarlyStopping(monitor='val_accuracy', mode='max', verbose=1, patience=10)"
   ]
  },
  {
   "cell_type": "code",
   "execution_count": 126,
   "metadata": {},
   "outputs": [
    {
     "name": "stdout",
     "output_type": "stream",
     "text": [
      "Epoch 1/600\n",
      "261/261 [==============================] - 4s 12ms/step - loss: 0.4669 - accuracy: 0.8282 - val_loss: 0.3904 - val_accuracy: 0.9463\n",
      "Epoch 2/600\n",
      "261/261 [==============================] - 3s 12ms/step - loss: 0.3269 - accuracy: 0.9463 - val_loss: 0.4117 - val_accuracy: 0.9402\n",
      "Epoch 3/600\n",
      "261/261 [==============================] - 3s 12ms/step - loss: 0.2826 - accuracy: 0.9586 - val_loss: 0.2964 - val_accuracy: 0.9417\n",
      "Epoch 4/600\n",
      "261/261 [==============================] - 3s 12ms/step - loss: 0.2391 - accuracy: 0.9678 - val_loss: 0.2664 - val_accuracy: 0.9463\n",
      "Epoch 5/600\n",
      "261/261 [==============================] - 3s 12ms/step - loss: 0.2046 - accuracy: 0.9755 - val_loss: 0.2719 - val_accuracy: 0.9463\n",
      "Epoch 6/600\n",
      "261/261 [==============================] - 3s 12ms/step - loss: 0.1810 - accuracy: 0.9778 - val_loss: 0.2569 - val_accuracy: 0.9463\n",
      "Epoch 7/600\n",
      "261/261 [==============================] - 3s 12ms/step - loss: 0.1642 - accuracy: 0.9778 - val_loss: 0.2452 - val_accuracy: 0.9463\n",
      "Epoch 8/600\n",
      "261/261 [==============================] - 3s 12ms/step - loss: 0.1507 - accuracy: 0.9778 - val_loss: 0.2551 - val_accuracy: 0.9463\n",
      "Epoch 9/600\n",
      "261/261 [==============================] - 3s 12ms/step - loss: 0.1433 - accuracy: 0.9762 - val_loss: 0.2879 - val_accuracy: 0.9479\n",
      "Epoch 10/600\n",
      "261/261 [==============================] - 3s 12ms/step - loss: 0.1280 - accuracy: 0.9793 - val_loss: 0.2690 - val_accuracy: 0.9494\n",
      "Epoch 11/600\n",
      "261/261 [==============================] - 3s 12ms/step - loss: 0.1205 - accuracy: 0.9793 - val_loss: 0.2630 - val_accuracy: 0.9494\n",
      "Epoch 12/600\n",
      "261/261 [==============================] - 3s 12ms/step - loss: 0.1143 - accuracy: 0.9793 - val_loss: 0.2579 - val_accuracy: 0.9494\n",
      "Epoch 13/600\n",
      "261/261 [==============================] - 3s 12ms/step - loss: 0.1092 - accuracy: 0.9793 - val_loss: 0.2539 - val_accuracy: 0.9494\n",
      "Epoch 14/600\n",
      "261/261 [==============================] - 3s 12ms/step - loss: 0.1050 - accuracy: 0.9793 - val_loss: 0.2507 - val_accuracy: 0.9494\n",
      "Epoch 15/600\n",
      "261/261 [==============================] - 3s 12ms/step - loss: 0.1016 - accuracy: 0.9793 - val_loss: 0.2483 - val_accuracy: 0.9494\n",
      "Epoch 16/600\n",
      "261/261 [==============================] - 3s 12ms/step - loss: 0.0989 - accuracy: 0.9793 - val_loss: 0.2465 - val_accuracy: 0.9494\n",
      "Epoch 17/600\n",
      "261/261 [==============================] - 3s 12ms/step - loss: 0.0966 - accuracy: 0.9793 - val_loss: 0.2452 - val_accuracy: 0.9509\n",
      "Epoch 18/600\n",
      "261/261 [==============================] - 3s 12ms/step - loss: 0.0948 - accuracy: 0.9793 - val_loss: 0.2442 - val_accuracy: 0.9509\n",
      "Epoch 19/600\n",
      "261/261 [==============================] - 3s 12ms/step - loss: 0.0933 - accuracy: 0.9793 - val_loss: 0.2436 - val_accuracy: 0.9509\n",
      "Epoch 20/600\n",
      "261/261 [==============================] - 3s 12ms/step - loss: 0.0920 - accuracy: 0.9793 - val_loss: 0.2433 - val_accuracy: 0.9509\n",
      "Epoch 21/600\n",
      "261/261 [==============================] - 3s 13ms/step - loss: 0.0910 - accuracy: 0.9793 - val_loss: 0.2432 - val_accuracy: 0.9509\n",
      "Epoch 22/600\n",
      "261/261 [==============================] - 3s 13ms/step - loss: 0.0902 - accuracy: 0.9793 - val_loss: 0.2433 - val_accuracy: 0.9494\n",
      "Epoch 23/600\n",
      "261/261 [==============================] - 3s 12ms/step - loss: 0.0896 - accuracy: 0.9793 - val_loss: 0.2434 - val_accuracy: 0.9494ccura\n",
      "Epoch 24/600\n",
      "261/261 [==============================] - 3s 13ms/step - loss: 0.0890 - accuracy: 0.9793 - val_loss: 0.2440 - val_accuracy: 0.9509\n",
      "Epoch 25/600\n",
      "261/261 [==============================] - 3s 13ms/step - loss: 0.0886 - accuracy: 0.9793 - val_loss: 0.2445 - val_accuracy: 0.9509\n",
      "Epoch 26/600\n",
      "261/261 [==============================] - 3s 13ms/step - loss: 0.0883 - accuracy: 0.9793 - val_loss: 0.2451 - val_accuracy: 0.9509\n",
      "Epoch 27/600\n",
      "261/261 [==============================] - 3s 13ms/step - loss: 0.0880 - accuracy: 0.9793 - val_loss: 0.2457 - val_accuracy: 0.9494\n",
      "Epoch 00027: early stopping\n"
     ]
    },
    {
     "data": {
      "text/plain": [
       "<keras.callbacks.History at 0x25fd3d735e0>"
      ]
     },
     "execution_count": 126,
     "metadata": {},
     "output_type": "execute_result"
    }
   ],
   "source": [
    "model.fit(dense_train, Y_train, epochs=600, batch_size=5, validation_data=(dense_test,Y_test), callbacks=[earlystop])"
   ]
  },
  {
   "cell_type": "code",
   "execution_count": 127,
   "metadata": {},
   "outputs": [
    {
     "data": {
      "text/plain": [
       "<AxesSubplot:>"
      ]
     },
     "execution_count": 127,
     "metadata": {},
     "output_type": "execute_result"
    },
    {
     "data": {
      "image/png": "[encoded data removed]",
      "text/plain": [
       "<Figure size 432x288 with 1 Axes>"
      ]
     },
     "metadata": {
      "needs_background": "light"
     },
     "output_type": "display_data"
    }
   ],
   "source": [
    "losses=pd.DataFrame(model.history.history)\n",
    "accuracyy=losses[['accuracy', 'val_accuracy']]\n",
    "accuracyy.plot()"
   ]
  },
  {
   "cell_type": "code",
   "execution_count": 128,
   "metadata": {},
   "outputs": [
    {
     "data": {
      "text/plain": [
       "<AxesSubplot:>"
      ]
     },
     "execution_count": 128,
     "metadata": {},
     "output_type": "execute_result"
    },
    {
     "data": {
      "image/png": "[encoded data removed]",
      "text/plain": [
       "<Figure size 432x288 with 1 Axes>"
      ]
     },
     "metadata": {
      "needs_background": "light"
     },
     "output_type": "display_data"
    }
   ],
   "source": [
    "losses=losses.drop(['accuracy', 'val_accuracy'], axis=1)\n",
    "losses.plot()"
   ]
  },
  {
   "cell_type": "code",
   "execution_count": 129,
   "metadata": {},
   "outputs": [],
   "source": [
    "Y_pred_d2_ann = (model.predict(X_test_ann) > 0.5).astype(\"int32\")"
   ]
  },
  {
   "cell_type": "code",
   "execution_count": 130,
   "metadata": {},
   "outputs": [
    {
     "name": "stdout",
     "output_type": "stream",
     "text": [
      "              precision    recall  f1-score   support\n",
      "\n",
      "         0.0       0.96      0.91      0.93       312\n",
      "         1.0       0.92      0.96      0.94       340\n",
      "\n",
      "    accuracy                           0.94       652\n",
      "   macro avg       0.94      0.93      0.94       652\n",
      "weighted avg       0.94      0.94      0.94       652\n",
      "\n"
     ]
    }
   ],
   "source": [
    "print(classification_report(Y_test,Y_pred_d2_ann))"
   ]
  },
  {
   "cell_type": "code",
   "execution_count": 131,
   "metadata": {},
   "outputs": [],
   "source": [
    "ann_cm=confusion_matrix(Y_test,Y_pred_d2_ann)"
   ]
  },
  {
   "cell_type": "code",
   "execution_count": 132,
   "metadata": {},
   "outputs": [
    {
     "data": {
      "text/plain": [
       "93.55828220858896"
      ]
     },
     "execution_count": 132,
     "metadata": {},
     "output_type": "execute_result"
    }
   ],
   "source": [
    "accuracy(ann_cm)*100"
   ]
  },
  {
   "cell_type": "code",
   "execution_count": 134,
   "metadata": {},
   "outputs": [
    {
     "name": "stdout",
     "output_type": "stream",
     "text": [
      "[[283  29]\n",
      " [ 13 327]]\n"
     ]
    }
   ],
   "source": [
    "print(ann_cm)"
   ]
  },
  {
   "cell_type": "code",
   "execution_count": 135,
   "metadata": {},
   "outputs": [],
   "source": [
    "ann_cmd= ConfusionMatrixDisplay(ann_cm)"
   ]
  },
  {
   "cell_type": "code",
   "execution_count": 137,
   "metadata": {},
   "outputs": [
    {
     "data": {
      "text/plain": [
       "<sklearn.metrics._plot.confusion_matrix.ConfusionMatrixDisplay at 0x25fd9638250>"
      ]
     },
     "execution_count": 137,
     "metadata": {},
     "output_type": "execute_result"
    },
    {
     "data": {
      "image/png": "[encoded data removed]",
      "text/plain": [
       "<Figure size 432x288 with 2 Axes>"
      ]
     },
     "metadata": {
      "needs_background": "light"
     },
     "output_type": "display_data"
    }
   ],
   "source": [
    "ann_cmd.plot(cmap='YlOrBr')"
   ]
  },
  {
   "cell_type": "code",
   "execution_count": null,
   "metadata": {},
   "outputs": [],
   "source": []
  }
 ],
 "metadata": {
  "kernelspec": {
   "display_name": "Python 3",
   "language": "python",
   "name": "python3"
  },
  "language_info": {
   "codemirror_mode": {
    "name": "ipython",
    "version": 3
   },
   "file_extension": ".py",
   "mimetype": "text/x-python",
   "name": "python",
   "nbconvert_exporter": "python",
   "pygments_lexer": "ipython3",
   "version": "3.8.5"
  }
 },
 "nbformat": 4,
 "nbformat_minor": 4
}
